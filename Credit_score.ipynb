{
 "cells": [
  {
   "cell_type": "markdown",
   "id": "3e03c8c1",
   "metadata": {},
   "source": [
    "# Credit score"
   ]
  },
  {
   "cell_type": "code",
   "execution_count": 26,
   "id": "2e96beb5",
   "metadata": {},
   "outputs": [],
   "source": [
    "import pandas as pd\n",
    "import numpy as np\n",
    "%config Completer.use_jedi = False\\\n"
   ]
  },
  {
   "cell_type": "code",
   "execution_count": 2,
   "id": "9ad9d5fd",
   "metadata": {},
   "outputs": [],
   "source": [
    "Bank_data=pd.read_csv('C:/Varun/Ineuron/End_End_projects/classification/Bank/bank_data.csv')"
   ]
  },
  {
   "cell_type": "code",
   "execution_count": 3,
   "id": "c70292de",
   "metadata": {},
   "outputs": [
    {
     "data": {
      "text/html": [
       "<div>\n",
       "<style scoped>\n",
       "    .dataframe tbody tr th:only-of-type {\n",
       "        vertical-align: middle;\n",
       "    }\n",
       "\n",
       "    .dataframe tbody tr th {\n",
       "        vertical-align: top;\n",
       "    }\n",
       "\n",
       "    .dataframe thead th {\n",
       "        text-align: right;\n",
       "    }\n",
       "</style>\n",
       "<table border=\"1\" class=\"dataframe\">\n",
       "  <thead>\n",
       "    <tr style=\"text-align: right;\">\n",
       "      <th></th>\n",
       "      <th>ID</th>\n",
       "      <th>Customer_ID</th>\n",
       "      <th>Month</th>\n",
       "      <th>Name</th>\n",
       "      <th>Age</th>\n",
       "      <th>Occupation</th>\n",
       "      <th>Annual_Income</th>\n",
       "      <th>Monthly_Inhand_Salary</th>\n",
       "      <th>Num_Bank_Accounts</th>\n",
       "      <th>Num_Credit_Card</th>\n",
       "      <th>...</th>\n",
       "      <th>Credit_Score</th>\n",
       "      <th>Auto Loan</th>\n",
       "      <th>Credit-Builder Loan</th>\n",
       "      <th>Debt Consolidation Loan</th>\n",
       "      <th>Home Equity Loan</th>\n",
       "      <th>Mortgage Loan</th>\n",
       "      <th>Not Specified</th>\n",
       "      <th>Payday Loan</th>\n",
       "      <th>Personal Loan</th>\n",
       "      <th>Student Loan</th>\n",
       "    </tr>\n",
       "  </thead>\n",
       "  <tbody>\n",
       "    <tr>\n",
       "      <th>0</th>\n",
       "      <td>5634</td>\n",
       "      <td>3392</td>\n",
       "      <td>January</td>\n",
       "      <td>Aaron Maashoh</td>\n",
       "      <td>23</td>\n",
       "      <td>Scientist</td>\n",
       "      <td>19114.12</td>\n",
       "      <td>1824.843333</td>\n",
       "      <td>3</td>\n",
       "      <td>4</td>\n",
       "      <td>...</td>\n",
       "      <td>Good</td>\n",
       "      <td>1</td>\n",
       "      <td>1</td>\n",
       "      <td>0</td>\n",
       "      <td>1</td>\n",
       "      <td>0</td>\n",
       "      <td>0</td>\n",
       "      <td>0</td>\n",
       "      <td>1</td>\n",
       "      <td>0</td>\n",
       "    </tr>\n",
       "    <tr>\n",
       "      <th>1</th>\n",
       "      <td>5635</td>\n",
       "      <td>3392</td>\n",
       "      <td>February</td>\n",
       "      <td>Aaron Maashoh</td>\n",
       "      <td>23</td>\n",
       "      <td>Scientist</td>\n",
       "      <td>19114.12</td>\n",
       "      <td>1824.843333</td>\n",
       "      <td>3</td>\n",
       "      <td>4</td>\n",
       "      <td>...</td>\n",
       "      <td>Good</td>\n",
       "      <td>1</td>\n",
       "      <td>1</td>\n",
       "      <td>0</td>\n",
       "      <td>1</td>\n",
       "      <td>0</td>\n",
       "      <td>0</td>\n",
       "      <td>0</td>\n",
       "      <td>1</td>\n",
       "      <td>0</td>\n",
       "    </tr>\n",
       "    <tr>\n",
       "      <th>2</th>\n",
       "      <td>5636</td>\n",
       "      <td>3392</td>\n",
       "      <td>March</td>\n",
       "      <td>Aaron Maashoh</td>\n",
       "      <td>23</td>\n",
       "      <td>Scientist</td>\n",
       "      <td>19114.12</td>\n",
       "      <td>1824.843333</td>\n",
       "      <td>3</td>\n",
       "      <td>4</td>\n",
       "      <td>...</td>\n",
       "      <td>Good</td>\n",
       "      <td>1</td>\n",
       "      <td>1</td>\n",
       "      <td>0</td>\n",
       "      <td>1</td>\n",
       "      <td>0</td>\n",
       "      <td>0</td>\n",
       "      <td>0</td>\n",
       "      <td>1</td>\n",
       "      <td>0</td>\n",
       "    </tr>\n",
       "    <tr>\n",
       "      <th>3</th>\n",
       "      <td>5637</td>\n",
       "      <td>3392</td>\n",
       "      <td>April</td>\n",
       "      <td>Aaron Maashoh</td>\n",
       "      <td>23</td>\n",
       "      <td>Scientist</td>\n",
       "      <td>19114.12</td>\n",
       "      <td>1824.843333</td>\n",
       "      <td>3</td>\n",
       "      <td>4</td>\n",
       "      <td>...</td>\n",
       "      <td>Good</td>\n",
       "      <td>1</td>\n",
       "      <td>1</td>\n",
       "      <td>0</td>\n",
       "      <td>1</td>\n",
       "      <td>0</td>\n",
       "      <td>0</td>\n",
       "      <td>0</td>\n",
       "      <td>1</td>\n",
       "      <td>0</td>\n",
       "    </tr>\n",
       "    <tr>\n",
       "      <th>4</th>\n",
       "      <td>5638</td>\n",
       "      <td>3392</td>\n",
       "      <td>May</td>\n",
       "      <td>Aaron Maashoh</td>\n",
       "      <td>23</td>\n",
       "      <td>Scientist</td>\n",
       "      <td>19114.12</td>\n",
       "      <td>1824.843333</td>\n",
       "      <td>3</td>\n",
       "      <td>4</td>\n",
       "      <td>...</td>\n",
       "      <td>Good</td>\n",
       "      <td>1</td>\n",
       "      <td>1</td>\n",
       "      <td>0</td>\n",
       "      <td>1</td>\n",
       "      <td>0</td>\n",
       "      <td>0</td>\n",
       "      <td>0</td>\n",
       "      <td>1</td>\n",
       "      <td>0</td>\n",
       "    </tr>\n",
       "  </tbody>\n",
       "</table>\n",
       "<p>5 rows × 35 columns</p>\n",
       "</div>"
      ],
      "text/plain": [
       "     ID  Customer_ID     Month           Name  Age Occupation  Annual_Income  \\\n",
       "0  5634         3392   January  Aaron Maashoh   23  Scientist       19114.12   \n",
       "1  5635         3392  February  Aaron Maashoh   23  Scientist       19114.12   \n",
       "2  5636         3392     March  Aaron Maashoh   23  Scientist       19114.12   \n",
       "3  5637         3392     April  Aaron Maashoh   23  Scientist       19114.12   \n",
       "4  5638         3392       May  Aaron Maashoh   23  Scientist       19114.12   \n",
       "\n",
       "   Monthly_Inhand_Salary  Num_Bank_Accounts  Num_Credit_Card  ...  \\\n",
       "0            1824.843333                  3                4  ...   \n",
       "1            1824.843333                  3                4  ...   \n",
       "2            1824.843333                  3                4  ...   \n",
       "3            1824.843333                  3                4  ...   \n",
       "4            1824.843333                  3                4  ...   \n",
       "\n",
       "   Credit_Score  Auto Loan  Credit-Builder Loan  Debt Consolidation Loan  \\\n",
       "0          Good          1                    1                        0   \n",
       "1          Good          1                    1                        0   \n",
       "2          Good          1                    1                        0   \n",
       "3          Good          1                    1                        0   \n",
       "4          Good          1                    1                        0   \n",
       "\n",
       "   Home Equity Loan  Mortgage Loan Not Specified  Payday Loan  Personal Loan  \\\n",
       "0                 1              0             0            0              1   \n",
       "1                 1              0             0            0              1   \n",
       "2                 1              0             0            0              1   \n",
       "3                 1              0             0            0              1   \n",
       "4                 1              0             0            0              1   \n",
       "\n",
       "   Student Loan  \n",
       "0             0  \n",
       "1             0  \n",
       "2             0  \n",
       "3             0  \n",
       "4             0  \n",
       "\n",
       "[5 rows x 35 columns]"
      ]
     },
     "execution_count": 3,
     "metadata": {},
     "output_type": "execute_result"
    }
   ],
   "source": [
    "Bank_data.head()"
   ]
  },
  {
   "cell_type": "code",
   "execution_count": 4,
   "id": "f2acf599",
   "metadata": {},
   "outputs": [
    {
     "name": "stdout",
     "output_type": "stream",
     "text": [
      "<class 'pandas.core.frame.DataFrame'>\n",
      "RangeIndex: 87865 entries, 0 to 87864\n",
      "Data columns (total 35 columns):\n",
      " #   Column                    Non-Null Count  Dtype  \n",
      "---  ------                    --------------  -----  \n",
      " 0   ID                        87865 non-null  int64  \n",
      " 1   Customer_ID               87865 non-null  int64  \n",
      " 2   Month                     87865 non-null  object \n",
      " 3   Name                      79092 non-null  object \n",
      " 4   Age                       87865 non-null  int64  \n",
      " 5   Occupation                87865 non-null  object \n",
      " 6   Annual_Income             87865 non-null  float64\n",
      " 7   Monthly_Inhand_Salary     87865 non-null  float64\n",
      " 8   Num_Bank_Accounts         87865 non-null  int64  \n",
      " 9   Num_Credit_Card           87865 non-null  int64  \n",
      " 10  Interest_Rate             87865 non-null  int64  \n",
      " 11  Num_of_Loan               87865 non-null  int64  \n",
      " 12  Delay_from_due_date       87865 non-null  int64  \n",
      " 13  Num_of_Delayed_Payment    87865 non-null  float64\n",
      " 14  Changed_Credit_Limit      87865 non-null  float64\n",
      " 15  Num_Credit_Inquiries      87865 non-null  float64\n",
      " 16  Credit_Mix                87865 non-null  object \n",
      " 17  Outstanding_Debt          87865 non-null  float64\n",
      " 18  Credit_Utilization_Ratio  87865 non-null  float64\n",
      " 19  Credit_History_Age        87865 non-null  float64\n",
      " 20  Payment_of_Min_Amount     87865 non-null  object \n",
      " 21  Total_EMI_per_month       87865 non-null  float64\n",
      " 22  Amount_invested_monthly   87865 non-null  float64\n",
      " 23  Payment_Behaviour         87865 non-null  object \n",
      " 24  Monthly_Balance           87865 non-null  float64\n",
      " 25  Credit_Score              87865 non-null  object \n",
      " 26  Auto Loan                 87865 non-null  int64  \n",
      " 27  Credit-Builder Loan       87865 non-null  int64  \n",
      " 28  Debt Consolidation Loan   87865 non-null  int64  \n",
      " 29  Home Equity Loan          87865 non-null  int64  \n",
      " 30  Mortgage Loan             87865 non-null  int64  \n",
      " 31  Not Specified             87865 non-null  int64  \n",
      " 32  Payday Loan               87865 non-null  int64  \n",
      " 33  Personal Loan             87865 non-null  int64  \n",
      " 34  Student Loan              87865 non-null  int64  \n",
      "dtypes: float64(11), int64(17), object(7)\n",
      "memory usage: 23.5+ MB\n"
     ]
    }
   ],
   "source": [
    "Bank_data.info()"
   ]
  },
  {
   "cell_type": "code",
   "execution_count": 6,
   "id": "dbef610c",
   "metadata": {},
   "outputs": [
    {
     "data": {
      "text/plain": [
       "ID                             0\n",
       "Customer_ID                    0\n",
       "Month                          0\n",
       "Name                        8773\n",
       "Age                            0\n",
       "Occupation                     0\n",
       "Annual_Income                  0\n",
       "Monthly_Inhand_Salary          0\n",
       "Num_Bank_Accounts              0\n",
       "Num_Credit_Card                0\n",
       "Interest_Rate                  0\n",
       "Num_of_Loan                    0\n",
       "Delay_from_due_date            0\n",
       "Num_of_Delayed_Payment         0\n",
       "Changed_Credit_Limit           0\n",
       "Num_Credit_Inquiries           0\n",
       "Credit_Mix                     0\n",
       "Outstanding_Debt               0\n",
       "Credit_Utilization_Ratio       0\n",
       "Credit_History_Age             0\n",
       "Payment_of_Min_Amount          0\n",
       "Total_EMI_per_month            0\n",
       "Amount_invested_monthly        0\n",
       "Payment_Behaviour              0\n",
       "Monthly_Balance                0\n",
       "Credit_Score                   0\n",
       "Auto Loan                      0\n",
       "Credit-Builder Loan            0\n",
       "Debt Consolidation Loan        0\n",
       "Home Equity Loan               0\n",
       "Mortgage Loan                  0\n",
       "Not Specified                  0\n",
       "Payday Loan                    0\n",
       "Personal Loan                  0\n",
       "Student Loan                   0\n",
       "dtype: int64"
      ]
     },
     "execution_count": 6,
     "metadata": {},
     "output_type": "execute_result"
    }
   ],
   "source": [
    "#checking null vales in data\n",
    "Bank_data.isnull().sum() #we can see only Name has missing values and we can remove that column"
   ]
  },
  {
   "cell_type": "code",
   "execution_count": 7,
   "id": "4f7a1c76",
   "metadata": {},
   "outputs": [
    {
     "data": {
      "text/html": [
       "<div>\n",
       "<style scoped>\n",
       "    .dataframe tbody tr th:only-of-type {\n",
       "        vertical-align: middle;\n",
       "    }\n",
       "\n",
       "    .dataframe tbody tr th {\n",
       "        vertical-align: top;\n",
       "    }\n",
       "\n",
       "    .dataframe thead th {\n",
       "        text-align: right;\n",
       "    }\n",
       "</style>\n",
       "<table border=\"1\" class=\"dataframe\">\n",
       "  <thead>\n",
       "    <tr style=\"text-align: right;\">\n",
       "      <th></th>\n",
       "      <th>ID</th>\n",
       "      <th>Customer_ID</th>\n",
       "      <th>Age</th>\n",
       "      <th>Annual_Income</th>\n",
       "      <th>Monthly_Inhand_Salary</th>\n",
       "      <th>Num_Bank_Accounts</th>\n",
       "      <th>Num_Credit_Card</th>\n",
       "      <th>Interest_Rate</th>\n",
       "      <th>Num_of_Loan</th>\n",
       "      <th>Delay_from_due_date</th>\n",
       "      <th>...</th>\n",
       "      <th>Monthly_Balance</th>\n",
       "      <th>Auto Loan</th>\n",
       "      <th>Credit-Builder Loan</th>\n",
       "      <th>Debt Consolidation Loan</th>\n",
       "      <th>Home Equity Loan</th>\n",
       "      <th>Mortgage Loan</th>\n",
       "      <th>Not Specified</th>\n",
       "      <th>Payday Loan</th>\n",
       "      <th>Personal Loan</th>\n",
       "      <th>Student Loan</th>\n",
       "    </tr>\n",
       "  </thead>\n",
       "  <tbody>\n",
       "    <tr>\n",
       "      <th>count</th>\n",
       "      <td>87865.000000</td>\n",
       "      <td>87865.000000</td>\n",
       "      <td>87865.000000</td>\n",
       "      <td>87865.000000</td>\n",
       "      <td>87865.000000</td>\n",
       "      <td>87865.000000</td>\n",
       "      <td>87865.000000</td>\n",
       "      <td>87865.000000</td>\n",
       "      <td>87865.000000</td>\n",
       "      <td>87865.000000</td>\n",
       "      <td>...</td>\n",
       "      <td>87865.000000</td>\n",
       "      <td>87865.000000</td>\n",
       "      <td>87865.000000</td>\n",
       "      <td>87865.000000</td>\n",
       "      <td>87865.000000</td>\n",
       "      <td>87865.000000</td>\n",
       "      <td>87865.000000</td>\n",
       "      <td>87865.000000</td>\n",
       "      <td>87865.000000</td>\n",
       "      <td>87865.000000</td>\n",
       "    </tr>\n",
       "    <tr>\n",
       "      <th>mean</th>\n",
       "      <td>80607.277369</td>\n",
       "      <td>25956.348580</td>\n",
       "      <td>33.237023</td>\n",
       "      <td>48209.979386</td>\n",
       "      <td>4007.091518</td>\n",
       "      <td>5.435395</td>\n",
       "      <td>5.565128</td>\n",
       "      <td>14.718420</td>\n",
       "      <td>3.567939</td>\n",
       "      <td>21.344802</td>\n",
       "      <td>...</td>\n",
       "      <td>394.502209</td>\n",
       "      <td>0.308155</td>\n",
       "      <td>0.320116</td>\n",
       "      <td>0.312582</td>\n",
       "      <td>0.315757</td>\n",
       "      <td>0.317271</td>\n",
       "      <td>0.432140</td>\n",
       "      <td>0.322233</td>\n",
       "      <td>0.313515</td>\n",
       "      <td>0.312741</td>\n",
       "    </tr>\n",
       "    <tr>\n",
       "      <th>std</th>\n",
       "      <td>43294.040662</td>\n",
       "      <td>14330.397362</td>\n",
       "      <td>10.757675</td>\n",
       "      <td>35249.178037</td>\n",
       "      <td>2932.342748</td>\n",
       "      <td>2.571976</td>\n",
       "      <td>2.062501</td>\n",
       "      <td>8.744835</td>\n",
       "      <td>2.453595</td>\n",
       "      <td>14.889109</td>\n",
       "      <td>...</td>\n",
       "      <td>202.676455</td>\n",
       "      <td>0.461733</td>\n",
       "      <td>0.466524</td>\n",
       "      <td>0.463548</td>\n",
       "      <td>0.464819</td>\n",
       "      <td>0.465416</td>\n",
       "      <td>0.495376</td>\n",
       "      <td>0.467334</td>\n",
       "      <td>0.463924</td>\n",
       "      <td>0.463613</td>\n",
       "    </tr>\n",
       "    <tr>\n",
       "      <th>min</th>\n",
       "      <td>5634.000000</td>\n",
       "      <td>1006.000000</td>\n",
       "      <td>14.000000</td>\n",
       "      <td>7005.930000</td>\n",
       "      <td>303.645417</td>\n",
       "      <td>0.000000</td>\n",
       "      <td>0.000000</td>\n",
       "      <td>1.000000</td>\n",
       "      <td>0.000000</td>\n",
       "      <td>-5.000000</td>\n",
       "      <td>...</td>\n",
       "      <td>0.007760</td>\n",
       "      <td>0.000000</td>\n",
       "      <td>0.000000</td>\n",
       "      <td>0.000000</td>\n",
       "      <td>0.000000</td>\n",
       "      <td>0.000000</td>\n",
       "      <td>0.000000</td>\n",
       "      <td>0.000000</td>\n",
       "      <td>0.000000</td>\n",
       "      <td>0.000000</td>\n",
       "    </tr>\n",
       "    <tr>\n",
       "      <th>25%</th>\n",
       "      <td>43101.000000</td>\n",
       "      <td>13660.000000</td>\n",
       "      <td>24.000000</td>\n",
       "      <td>19181.270000</td>\n",
       "      <td>1612.487500</td>\n",
       "      <td>4.000000</td>\n",
       "      <td>4.000000</td>\n",
       "      <td>8.000000</td>\n",
       "      <td>2.000000</td>\n",
       "      <td>10.000000</td>\n",
       "      <td>...</td>\n",
       "      <td>268.835542</td>\n",
       "      <td>0.000000</td>\n",
       "      <td>0.000000</td>\n",
       "      <td>0.000000</td>\n",
       "      <td>0.000000</td>\n",
       "      <td>0.000000</td>\n",
       "      <td>0.000000</td>\n",
       "      <td>0.000000</td>\n",
       "      <td>0.000000</td>\n",
       "      <td>0.000000</td>\n",
       "    </tr>\n",
       "    <tr>\n",
       "      <th>50%</th>\n",
       "      <td>80649.000000</td>\n",
       "      <td>25765.000000</td>\n",
       "      <td>33.000000</td>\n",
       "      <td>36217.700000</td>\n",
       "      <td>3031.413333</td>\n",
       "      <td>6.000000</td>\n",
       "      <td>5.000000</td>\n",
       "      <td>14.000000</td>\n",
       "      <td>3.000000</td>\n",
       "      <td>18.000000</td>\n",
       "      <td>...</td>\n",
       "      <td>334.369632</td>\n",
       "      <td>0.000000</td>\n",
       "      <td>0.000000</td>\n",
       "      <td>0.000000</td>\n",
       "      <td>0.000000</td>\n",
       "      <td>0.000000</td>\n",
       "      <td>0.000000</td>\n",
       "      <td>0.000000</td>\n",
       "      <td>0.000000</td>\n",
       "      <td>0.000000</td>\n",
       "    </tr>\n",
       "    <tr>\n",
       "      <th>75%</th>\n",
       "      <td>118088.000000</td>\n",
       "      <td>38326.000000</td>\n",
       "      <td>42.000000</td>\n",
       "      <td>69363.870000</td>\n",
       "      <td>5770.522500</td>\n",
       "      <td>7.000000</td>\n",
       "      <td>7.000000</td>\n",
       "      <td>20.000000</td>\n",
       "      <td>5.000000</td>\n",
       "      <td>28.000000</td>\n",
       "      <td>...</td>\n",
       "      <td>462.466979</td>\n",
       "      <td>1.000000</td>\n",
       "      <td>1.000000</td>\n",
       "      <td>1.000000</td>\n",
       "      <td>1.000000</td>\n",
       "      <td>1.000000</td>\n",
       "      <td>1.000000</td>\n",
       "      <td>1.000000</td>\n",
       "      <td>1.000000</td>\n",
       "      <td>1.000000</td>\n",
       "    </tr>\n",
       "    <tr>\n",
       "      <th>max</th>\n",
       "      <td>155629.000000</td>\n",
       "      <td>50999.000000</td>\n",
       "      <td>56.000000</td>\n",
       "      <td>164861.360000</td>\n",
       "      <td>13485.456667</td>\n",
       "      <td>11.000000</td>\n",
       "      <td>11.000000</td>\n",
       "      <td>34.000000</td>\n",
       "      <td>9.000000</td>\n",
       "      <td>67.000000</td>\n",
       "      <td>...</td>\n",
       "      <td>1459.930653</td>\n",
       "      <td>1.000000</td>\n",
       "      <td>1.000000</td>\n",
       "      <td>1.000000</td>\n",
       "      <td>1.000000</td>\n",
       "      <td>1.000000</td>\n",
       "      <td>1.000000</td>\n",
       "      <td>1.000000</td>\n",
       "      <td>1.000000</td>\n",
       "      <td>1.000000</td>\n",
       "    </tr>\n",
       "  </tbody>\n",
       "</table>\n",
       "<p>8 rows × 28 columns</p>\n",
       "</div>"
      ],
      "text/plain": [
       "                  ID   Customer_ID           Age  Annual_Income  \\\n",
       "count   87865.000000  87865.000000  87865.000000   87865.000000   \n",
       "mean    80607.277369  25956.348580     33.237023   48209.979386   \n",
       "std     43294.040662  14330.397362     10.757675   35249.178037   \n",
       "min      5634.000000   1006.000000     14.000000    7005.930000   \n",
       "25%     43101.000000  13660.000000     24.000000   19181.270000   \n",
       "50%     80649.000000  25765.000000     33.000000   36217.700000   \n",
       "75%    118088.000000  38326.000000     42.000000   69363.870000   \n",
       "max    155629.000000  50999.000000     56.000000  164861.360000   \n",
       "\n",
       "       Monthly_Inhand_Salary  Num_Bank_Accounts  Num_Credit_Card  \\\n",
       "count           87865.000000       87865.000000     87865.000000   \n",
       "mean             4007.091518           5.435395         5.565128   \n",
       "std              2932.342748           2.571976         2.062501   \n",
       "min               303.645417           0.000000         0.000000   \n",
       "25%              1612.487500           4.000000         4.000000   \n",
       "50%              3031.413333           6.000000         5.000000   \n",
       "75%              5770.522500           7.000000         7.000000   \n",
       "max             13485.456667          11.000000        11.000000   \n",
       "\n",
       "       Interest_Rate   Num_of_Loan  Delay_from_due_date  ...  Monthly_Balance  \\\n",
       "count   87865.000000  87865.000000         87865.000000  ...     87865.000000   \n",
       "mean       14.718420      3.567939            21.344802  ...       394.502209   \n",
       "std         8.744835      2.453595            14.889109  ...       202.676455   \n",
       "min         1.000000      0.000000            -5.000000  ...         0.007760   \n",
       "25%         8.000000      2.000000            10.000000  ...       268.835542   \n",
       "50%        14.000000      3.000000            18.000000  ...       334.369632   \n",
       "75%        20.000000      5.000000            28.000000  ...       462.466979   \n",
       "max        34.000000      9.000000            67.000000  ...      1459.930653   \n",
       "\n",
       "          Auto Loan  Credit-Builder Loan  Debt Consolidation Loan  \\\n",
       "count  87865.000000         87865.000000             87865.000000   \n",
       "mean       0.308155             0.320116                 0.312582   \n",
       "std        0.461733             0.466524                 0.463548   \n",
       "min        0.000000             0.000000                 0.000000   \n",
       "25%        0.000000             0.000000                 0.000000   \n",
       "50%        0.000000             0.000000                 0.000000   \n",
       "75%        1.000000             1.000000                 1.000000   \n",
       "max        1.000000             1.000000                 1.000000   \n",
       "\n",
       "       Home Equity Loan  Mortgage Loan  Not Specified   Payday Loan  \\\n",
       "count      87865.000000   87865.000000   87865.000000  87865.000000   \n",
       "mean           0.315757       0.317271       0.432140      0.322233   \n",
       "std            0.464819       0.465416       0.495376      0.467334   \n",
       "min            0.000000       0.000000       0.000000      0.000000   \n",
       "25%            0.000000       0.000000       0.000000      0.000000   \n",
       "50%            0.000000       0.000000       0.000000      0.000000   \n",
       "75%            1.000000       1.000000       1.000000      1.000000   \n",
       "max            1.000000       1.000000       1.000000      1.000000   \n",
       "\n",
       "       Personal Loan  Student Loan  \n",
       "count   87865.000000  87865.000000  \n",
       "mean        0.313515      0.312741  \n",
       "std         0.463924      0.463613  \n",
       "min         0.000000      0.000000  \n",
       "25%         0.000000      0.000000  \n",
       "50%         0.000000      0.000000  \n",
       "75%         1.000000      1.000000  \n",
       "max         1.000000      1.000000  \n",
       "\n",
       "[8 rows x 28 columns]"
      ]
     },
     "execution_count": 7,
     "metadata": {},
     "output_type": "execute_result"
    }
   ],
   "source": [
    "Bank_data.describe()"
   ]
  },
  {
   "cell_type": "code",
   "execution_count": 10,
   "id": "b93edae8",
   "metadata": {},
   "outputs": [
    {
     "data": {
      "text/html": [
       "<div>\n",
       "<style scoped>\n",
       "    .dataframe tbody tr th:only-of-type {\n",
       "        vertical-align: middle;\n",
       "    }\n",
       "\n",
       "    .dataframe tbody tr th {\n",
       "        vertical-align: top;\n",
       "    }\n",
       "\n",
       "    .dataframe thead th {\n",
       "        text-align: right;\n",
       "    }\n",
       "</style>\n",
       "<table border=\"1\" class=\"dataframe\">\n",
       "  <thead>\n",
       "    <tr style=\"text-align: right;\">\n",
       "      <th></th>\n",
       "      <th>Month</th>\n",
       "      <th>Name</th>\n",
       "      <th>Occupation</th>\n",
       "      <th>Credit_Mix</th>\n",
       "      <th>Payment_of_Min_Amount</th>\n",
       "      <th>Payment_Behaviour</th>\n",
       "      <th>Credit_Score</th>\n",
       "    </tr>\n",
       "  </thead>\n",
       "  <tbody>\n",
       "    <tr>\n",
       "      <th>count</th>\n",
       "      <td>87865</td>\n",
       "      <td>79092</td>\n",
       "      <td>87865</td>\n",
       "      <td>87865</td>\n",
       "      <td>87865</td>\n",
       "      <td>87865</td>\n",
       "      <td>87865</td>\n",
       "    </tr>\n",
       "    <tr>\n",
       "      <th>unique</th>\n",
       "      <td>8</td>\n",
       "      <td>10020</td>\n",
       "      <td>15</td>\n",
       "      <td>3</td>\n",
       "      <td>3</td>\n",
       "      <td>6</td>\n",
       "      <td>3</td>\n",
       "    </tr>\n",
       "    <tr>\n",
       "      <th>top</th>\n",
       "      <td>January</td>\n",
       "      <td>Stevex</td>\n",
       "      <td>Lawyer</td>\n",
       "      <td>Standard</td>\n",
       "      <td>Yes</td>\n",
       "      <td>Low_spent_Small_value_payments</td>\n",
       "      <td>Standard</td>\n",
       "    </tr>\n",
       "    <tr>\n",
       "      <th>freq</th>\n",
       "      <td>11047</td>\n",
       "      <td>39</td>\n",
       "      <td>6268</td>\n",
       "      <td>41301</td>\n",
       "      <td>47077</td>\n",
       "      <td>24350</td>\n",
       "      <td>47003</td>\n",
       "    </tr>\n",
       "  </tbody>\n",
       "</table>\n",
       "</div>"
      ],
      "text/plain": [
       "          Month    Name Occupation Credit_Mix Payment_of_Min_Amount  \\\n",
       "count     87865   79092      87865      87865                 87865   \n",
       "unique        8   10020         15          3                     3   \n",
       "top     January  Stevex     Lawyer   Standard                   Yes   \n",
       "freq      11047      39       6268      41301                 47077   \n",
       "\n",
       "                     Payment_Behaviour Credit_Score  \n",
       "count                            87865        87865  \n",
       "unique                               6            3  \n",
       "top     Low_spent_Small_value_payments     Standard  \n",
       "freq                             24350        47003  "
      ]
     },
     "execution_count": 10,
     "metadata": {},
     "output_type": "execute_result"
    }
   ],
   "source": [
    "#Checking non-integer columns\n",
    "Bank_data.describe(exclude=np.number)"
   ]
  },
  {
   "cell_type": "code",
   "execution_count": 21,
   "id": "3fdb3776",
   "metadata": {},
   "outputs": [
    {
     "data": {
      "text/plain": [
       "<matplotlib.axes._subplots.AxesSubplot at 0x217bd3a7160>"
      ]
     },
     "execution_count": 21,
     "metadata": {},
     "output_type": "execute_result"
    },
    {
     "data": {
      "image/png": "[encoded data removed]",
      "text/plain": [
       "<Figure size 1440x432 with 1 Axes>"
      ]
     },
     "metadata": {
      "needs_background": "light"
     },
     "output_type": "display_data"
    }
   ],
   "source": [
    "Bank_data.isnull().sum().plot(figsize=(20,6))"
   ]
  },
  {
   "cell_type": "code",
   "execution_count": 39,
   "id": "a3e8c845",
   "metadata": {},
   "outputs": [],
   "source": [
    "\n",
    "import pandas as pd\n",
    "from matplotlib import pyplot as plt\n",
    "import seaborn as sns"
   ]
  },
  {
   "cell_type": "code",
   "execution_count": 42,
   "id": "8dfa9eed",
   "metadata": {},
   "outputs": [
    {
     "data": {
      "text/plain": [
       "<Figure size 1080x432 with 0 Axes>"
      ]
     },
     "metadata": {},
     "output_type": "display_data"
    },
    {
     "data": {
      "image/png": "[encoded data removed]",
      "text/plain": [
       "<Figure size 872.125x360 with 1 Axes>"
      ]
     },
     "metadata": {
      "needs_background": "light"
     },
     "output_type": "display_data"
    }
   ],
   "source": [
    "#Checking missing values in all columns\n",
    "plt.figure(figsize=(15,6))\n",
    "sns.displot(\n",
    "    data=Bank_data.isna().melt(value_name=\"missing\"),\n",
    "    y=\"variable\",\n",
    "    hue=\"missing\",\n",
    "    multiple=\"fill\",\n",
    "    aspect=2.25\n",
    ")\n",
    "plt.savefig(\"visualizing_missing_data_with_barplot_Seaborn_distplot.png\", dpi=100)"
   ]
  },
  {
   "cell_type": "code",
   "execution_count": null,
   "id": "46118881",
   "metadata": {},
   "outputs": [],
   "source": [
    "#deleting columns which are not required (ID, Customer ID, Month, Name)"
   ]
  },
  {
   "cell_type": "code",
   "execution_count": 47,
   "id": "baf4176f",
   "metadata": {},
   "outputs": [],
   "source": [
    "Bank=Bank_data.drop(['ID','Customer_ID','Month',\"Name\"],axis=1)"
   ]
  },
  {
   "cell_type": "code",
   "execution_count": 54,
   "id": "85cf69d4",
   "metadata": {},
   "outputs": [
    {
     "data": {
      "text/plain": [
       "(87865, 31)"
      ]
     },
     "execution_count": 54,
     "metadata": {},
     "output_type": "execute_result"
    }
   ],
   "source": [
    "Bank.shape"
   ]
  },
  {
   "cell_type": "code",
   "execution_count": 60,
   "id": "c60aa0c3",
   "metadata": {},
   "outputs": [],
   "source": [
    "#One hot encoding for all catagorical variables\n",
    "#first findout what are catogorical variables. Else write function to find dtype=object and do one hot encoding.\n",
    "from sklearn import preprocessing\n",
    "label_encoder = preprocessing.LabelEncoder()\n"
   ]
  },
  {
   "cell_type": "code",
   "execution_count": 61,
   "id": "530455c4",
   "metadata": {},
   "outputs": [],
   "source": [
    "for x in Bank.select_dtypes(np.object).columns:\n",
    "    Bank[x]=label_encoder.fit_transform(Bank[x])\n",
    "    plt.show()"
   ]
  },
  {
   "cell_type": "code",
   "execution_count": 62,
   "id": "d805237d",
   "metadata": {},
   "outputs": [
    {
     "data": {
      "text/html": [
       "<div>\n",
       "<style scoped>\n",
       "    .dataframe tbody tr th:only-of-type {\n",
       "        vertical-align: middle;\n",
       "    }\n",
       "\n",
       "    .dataframe tbody tr th {\n",
       "        vertical-align: top;\n",
       "    }\n",
       "\n",
       "    .dataframe thead th {\n",
       "        text-align: right;\n",
       "    }\n",
       "</style>\n",
       "<table border=\"1\" class=\"dataframe\">\n",
       "  <thead>\n",
       "    <tr style=\"text-align: right;\">\n",
       "      <th></th>\n",
       "      <th>Age</th>\n",
       "      <th>Occupation</th>\n",
       "      <th>Annual_Income</th>\n",
       "      <th>Monthly_Inhand_Salary</th>\n",
       "      <th>Num_Bank_Accounts</th>\n",
       "      <th>Num_Credit_Card</th>\n",
       "      <th>Interest_Rate</th>\n",
       "      <th>Num_of_Loan</th>\n",
       "      <th>Delay_from_due_date</th>\n",
       "      <th>Num_of_Delayed_Payment</th>\n",
       "      <th>...</th>\n",
       "      <th>Credit_Score</th>\n",
       "      <th>Auto Loan</th>\n",
       "      <th>Credit-Builder Loan</th>\n",
       "      <th>Debt Consolidation Loan</th>\n",
       "      <th>Home Equity Loan</th>\n",
       "      <th>Mortgage Loan</th>\n",
       "      <th>Not Specified</th>\n",
       "      <th>Payday Loan</th>\n",
       "      <th>Personal Loan</th>\n",
       "      <th>Student Loan</th>\n",
       "    </tr>\n",
       "  </thead>\n",
       "  <tbody>\n",
       "    <tr>\n",
       "      <th>0</th>\n",
       "      <td>23</td>\n",
       "      <td>12</td>\n",
       "      <td>19114.12</td>\n",
       "      <td>1824.843333</td>\n",
       "      <td>3</td>\n",
       "      <td>4</td>\n",
       "      <td>3</td>\n",
       "      <td>4</td>\n",
       "      <td>3</td>\n",
       "      <td>7.0</td>\n",
       "      <td>...</td>\n",
       "      <td>0</td>\n",
       "      <td>1</td>\n",
       "      <td>1</td>\n",
       "      <td>0</td>\n",
       "      <td>1</td>\n",
       "      <td>0</td>\n",
       "      <td>0</td>\n",
       "      <td>0</td>\n",
       "      <td>1</td>\n",
       "      <td>0</td>\n",
       "    </tr>\n",
       "    <tr>\n",
       "      <th>1</th>\n",
       "      <td>23</td>\n",
       "      <td>12</td>\n",
       "      <td>19114.12</td>\n",
       "      <td>1824.843333</td>\n",
       "      <td>3</td>\n",
       "      <td>4</td>\n",
       "      <td>3</td>\n",
       "      <td>4</td>\n",
       "      <td>-1</td>\n",
       "      <td>4.0</td>\n",
       "      <td>...</td>\n",
       "      <td>0</td>\n",
       "      <td>1</td>\n",
       "      <td>1</td>\n",
       "      <td>0</td>\n",
       "      <td>1</td>\n",
       "      <td>0</td>\n",
       "      <td>0</td>\n",
       "      <td>0</td>\n",
       "      <td>1</td>\n",
       "      <td>0</td>\n",
       "    </tr>\n",
       "    <tr>\n",
       "      <th>2</th>\n",
       "      <td>23</td>\n",
       "      <td>12</td>\n",
       "      <td>19114.12</td>\n",
       "      <td>1824.843333</td>\n",
       "      <td>3</td>\n",
       "      <td>4</td>\n",
       "      <td>3</td>\n",
       "      <td>4</td>\n",
       "      <td>3</td>\n",
       "      <td>7.0</td>\n",
       "      <td>...</td>\n",
       "      <td>0</td>\n",
       "      <td>1</td>\n",
       "      <td>1</td>\n",
       "      <td>0</td>\n",
       "      <td>1</td>\n",
       "      <td>0</td>\n",
       "      <td>0</td>\n",
       "      <td>0</td>\n",
       "      <td>1</td>\n",
       "      <td>0</td>\n",
       "    </tr>\n",
       "    <tr>\n",
       "      <th>3</th>\n",
       "      <td>23</td>\n",
       "      <td>12</td>\n",
       "      <td>19114.12</td>\n",
       "      <td>1824.843333</td>\n",
       "      <td>3</td>\n",
       "      <td>4</td>\n",
       "      <td>3</td>\n",
       "      <td>4</td>\n",
       "      <td>5</td>\n",
       "      <td>4.0</td>\n",
       "      <td>...</td>\n",
       "      <td>0</td>\n",
       "      <td>1</td>\n",
       "      <td>1</td>\n",
       "      <td>0</td>\n",
       "      <td>1</td>\n",
       "      <td>0</td>\n",
       "      <td>0</td>\n",
       "      <td>0</td>\n",
       "      <td>1</td>\n",
       "      <td>0</td>\n",
       "    </tr>\n",
       "    <tr>\n",
       "      <th>4</th>\n",
       "      <td>23</td>\n",
       "      <td>12</td>\n",
       "      <td>19114.12</td>\n",
       "      <td>1824.843333</td>\n",
       "      <td>3</td>\n",
       "      <td>4</td>\n",
       "      <td>3</td>\n",
       "      <td>4</td>\n",
       "      <td>6</td>\n",
       "      <td>4.0</td>\n",
       "      <td>...</td>\n",
       "      <td>0</td>\n",
       "      <td>1</td>\n",
       "      <td>1</td>\n",
       "      <td>0</td>\n",
       "      <td>1</td>\n",
       "      <td>0</td>\n",
       "      <td>0</td>\n",
       "      <td>0</td>\n",
       "      <td>1</td>\n",
       "      <td>0</td>\n",
       "    </tr>\n",
       "    <tr>\n",
       "      <th>...</th>\n",
       "      <td>...</td>\n",
       "      <td>...</td>\n",
       "      <td>...</td>\n",
       "      <td>...</td>\n",
       "      <td>...</td>\n",
       "      <td>...</td>\n",
       "      <td>...</td>\n",
       "      <td>...</td>\n",
       "      <td>...</td>\n",
       "      <td>...</td>\n",
       "      <td>...</td>\n",
       "      <td>...</td>\n",
       "      <td>...</td>\n",
       "      <td>...</td>\n",
       "      <td>...</td>\n",
       "      <td>...</td>\n",
       "      <td>...</td>\n",
       "      <td>...</td>\n",
       "      <td>...</td>\n",
       "      <td>...</td>\n",
       "      <td>...</td>\n",
       "    </tr>\n",
       "    <tr>\n",
       "      <th>87860</th>\n",
       "      <td>25</td>\n",
       "      <td>9</td>\n",
       "      <td>39628.99</td>\n",
       "      <td>3359.415833</td>\n",
       "      <td>4</td>\n",
       "      <td>6</td>\n",
       "      <td>7</td>\n",
       "      <td>2</td>\n",
       "      <td>23</td>\n",
       "      <td>7.0</td>\n",
       "      <td>...</td>\n",
       "      <td>1</td>\n",
       "      <td>1</td>\n",
       "      <td>0</td>\n",
       "      <td>0</td>\n",
       "      <td>0</td>\n",
       "      <td>0</td>\n",
       "      <td>0</td>\n",
       "      <td>0</td>\n",
       "      <td>0</td>\n",
       "      <td>1</td>\n",
       "    </tr>\n",
       "    <tr>\n",
       "      <th>87861</th>\n",
       "      <td>25</td>\n",
       "      <td>9</td>\n",
       "      <td>39628.99</td>\n",
       "      <td>3359.415833</td>\n",
       "      <td>4</td>\n",
       "      <td>6</td>\n",
       "      <td>7</td>\n",
       "      <td>2</td>\n",
       "      <td>18</td>\n",
       "      <td>7.0</td>\n",
       "      <td>...</td>\n",
       "      <td>1</td>\n",
       "      <td>1</td>\n",
       "      <td>0</td>\n",
       "      <td>0</td>\n",
       "      <td>0</td>\n",
       "      <td>0</td>\n",
       "      <td>0</td>\n",
       "      <td>0</td>\n",
       "      <td>0</td>\n",
       "      <td>1</td>\n",
       "    </tr>\n",
       "    <tr>\n",
       "      <th>87862</th>\n",
       "      <td>25</td>\n",
       "      <td>9</td>\n",
       "      <td>39628.99</td>\n",
       "      <td>3359.415833</td>\n",
       "      <td>4</td>\n",
       "      <td>6</td>\n",
       "      <td>7</td>\n",
       "      <td>2</td>\n",
       "      <td>27</td>\n",
       "      <td>6.0</td>\n",
       "      <td>...</td>\n",
       "      <td>1</td>\n",
       "      <td>1</td>\n",
       "      <td>0</td>\n",
       "      <td>0</td>\n",
       "      <td>0</td>\n",
       "      <td>0</td>\n",
       "      <td>0</td>\n",
       "      <td>0</td>\n",
       "      <td>0</td>\n",
       "      <td>1</td>\n",
       "    </tr>\n",
       "    <tr>\n",
       "      <th>87863</th>\n",
       "      <td>25</td>\n",
       "      <td>9</td>\n",
       "      <td>39628.99</td>\n",
       "      <td>3359.415833</td>\n",
       "      <td>4</td>\n",
       "      <td>6</td>\n",
       "      <td>7</td>\n",
       "      <td>2</td>\n",
       "      <td>20</td>\n",
       "      <td>6.0</td>\n",
       "      <td>...</td>\n",
       "      <td>2</td>\n",
       "      <td>1</td>\n",
       "      <td>0</td>\n",
       "      <td>0</td>\n",
       "      <td>0</td>\n",
       "      <td>0</td>\n",
       "      <td>0</td>\n",
       "      <td>0</td>\n",
       "      <td>0</td>\n",
       "      <td>1</td>\n",
       "    </tr>\n",
       "    <tr>\n",
       "      <th>87864</th>\n",
       "      <td>25</td>\n",
       "      <td>9</td>\n",
       "      <td>39628.99</td>\n",
       "      <td>3359.415833</td>\n",
       "      <td>4</td>\n",
       "      <td>6</td>\n",
       "      <td>7</td>\n",
       "      <td>2</td>\n",
       "      <td>18</td>\n",
       "      <td>6.0</td>\n",
       "      <td>...</td>\n",
       "      <td>1</td>\n",
       "      <td>1</td>\n",
       "      <td>0</td>\n",
       "      <td>0</td>\n",
       "      <td>0</td>\n",
       "      <td>0</td>\n",
       "      <td>0</td>\n",
       "      <td>0</td>\n",
       "      <td>0</td>\n",
       "      <td>1</td>\n",
       "    </tr>\n",
       "  </tbody>\n",
       "</table>\n",
       "<p>87865 rows × 31 columns</p>\n",
       "</div>"
      ],
      "text/plain": [
       "       Age  Occupation  Annual_Income  Monthly_Inhand_Salary  \\\n",
       "0       23          12       19114.12            1824.843333   \n",
       "1       23          12       19114.12            1824.843333   \n",
       "2       23          12       19114.12            1824.843333   \n",
       "3       23          12       19114.12            1824.843333   \n",
       "4       23          12       19114.12            1824.843333   \n",
       "...    ...         ...            ...                    ...   \n",
       "87860   25           9       39628.99            3359.415833   \n",
       "87861   25           9       39628.99            3359.415833   \n",
       "87862   25           9       39628.99            3359.415833   \n",
       "87863   25           9       39628.99            3359.415833   \n",
       "87864   25           9       39628.99            3359.415833   \n",
       "\n",
       "       Num_Bank_Accounts  Num_Credit_Card  Interest_Rate  Num_of_Loan  \\\n",
       "0                      3                4              3            4   \n",
       "1                      3                4              3            4   \n",
       "2                      3                4              3            4   \n",
       "3                      3                4              3            4   \n",
       "4                      3                4              3            4   \n",
       "...                  ...              ...            ...          ...   \n",
       "87860                  4                6              7            2   \n",
       "87861                  4                6              7            2   \n",
       "87862                  4                6              7            2   \n",
       "87863                  4                6              7            2   \n",
       "87864                  4                6              7            2   \n",
       "\n",
       "       Delay_from_due_date  Num_of_Delayed_Payment  ...  Credit_Score  \\\n",
       "0                        3                     7.0  ...             0   \n",
       "1                       -1                     4.0  ...             0   \n",
       "2                        3                     7.0  ...             0   \n",
       "3                        5                     4.0  ...             0   \n",
       "4                        6                     4.0  ...             0   \n",
       "...                    ...                     ...  ...           ...   \n",
       "87860                   23                     7.0  ...             1   \n",
       "87861                   18                     7.0  ...             1   \n",
       "87862                   27                     6.0  ...             1   \n",
       "87863                   20                     6.0  ...             2   \n",
       "87864                   18                     6.0  ...             1   \n",
       "\n",
       "       Auto Loan  Credit-Builder Loan  Debt Consolidation Loan  \\\n",
       "0              1                    1                        0   \n",
       "1              1                    1                        0   \n",
       "2              1                    1                        0   \n",
       "3              1                    1                        0   \n",
       "4              1                    1                        0   \n",
       "...          ...                  ...                      ...   \n",
       "87860          1                    0                        0   \n",
       "87861          1                    0                        0   \n",
       "87862          1                    0                        0   \n",
       "87863          1                    0                        0   \n",
       "87864          1                    0                        0   \n",
       "\n",
       "       Home Equity Loan  Mortgage Loan  Not Specified  Payday Loan  \\\n",
       "0                     1              0              0            0   \n",
       "1                     1              0              0            0   \n",
       "2                     1              0              0            0   \n",
       "3                     1              0              0            0   \n",
       "4                     1              0              0            0   \n",
       "...                 ...            ...            ...          ...   \n",
       "87860                 0              0              0            0   \n",
       "87861                 0              0              0            0   \n",
       "87862                 0              0              0            0   \n",
       "87863                 0              0              0            0   \n",
       "87864                 0              0              0            0   \n",
       "\n",
       "       Personal Loan  Student Loan  \n",
       "0                  1             0  \n",
       "1                  1             0  \n",
       "2                  1             0  \n",
       "3                  1             0  \n",
       "4                  1             0  \n",
       "...              ...           ...  \n",
       "87860              0             1  \n",
       "87861              0             1  \n",
       "87862              0             1  \n",
       "87863              0             1  \n",
       "87864              0             1  \n",
       "\n",
       "[87865 rows x 31 columns]"
      ]
     },
     "execution_count": 62,
     "metadata": {},
     "output_type": "execute_result"
    }
   ],
   "source": [
    "Bank"
   ]
  },
  {
   "cell_type": "code",
   "execution_count": null,
   "id": "a6961ec8",
   "metadata": {},
   "outputs": [],
   "source": [
    "#plot distirbution charts for all variables"
   ]
  },
  {
   "cell_type": "code",
   "execution_count": 73,
   "id": "5dd095c9",
   "metadata": {},
   "outputs": [
    {
     "data": {
      "text/plain": [
       "<matplotlib.axes._subplots.AxesSubplot at 0x217c9617710>"
      ]
     },
     "execution_count": 73,
     "metadata": {},
     "output_type": "execute_result"
    },
    {
     "data": {
      "image/png": "[encoded data removed]",
      "text/plain": [
       "<Figure size 432x288 with 1 Axes>"
      ]
     },
     "metadata": {
      "needs_background": "light"
     },
     "output_type": "display_data"
    }
   ],
   "source": [
    "sns.distplot(Bank['Age'], kde = False, color ='red', bins = 30)"
   ]
  },
  {
   "cell_type": "code",
   "execution_count": 81,
   "id": "89963a2b",
   "metadata": {},
   "outputs": [
    {
     "name": "stderr",
     "output_type": "stream",
     "text": [
      "C:\\Users\\varun\\Anaconda3\\lib\\site-packages\\matplotlib\\cbook\\__init__.py:1402: FutureWarning: Support for multi-dimensional indexing (e.g. `obj[:, None]`) is deprecated and will be removed in a future version.  Convert to a numpy array before indexing instead.\n",
      "  ndim = x[:, None].ndim\n",
      "C:\\Users\\varun\\Anaconda3\\lib\\site-packages\\matplotlib\\axes\\_base.py:276: FutureWarning: Support for multi-dimensional indexing (e.g. `obj[:, None]`) is deprecated and will be removed in a future version.  Convert to a numpy array before indexing instead.\n",
      "  x = x[:, np.newaxis]\n",
      "C:\\Users\\varun\\Anaconda3\\lib\\site-packages\\matplotlib\\axes\\_base.py:278: FutureWarning: Support for multi-dimensional indexing (e.g. `obj[:, None]`) is deprecated and will be removed in a future version.  Convert to a numpy array before indexing instead.\n",
      "  y = y[:, np.newaxis]\n"
     ]
    },
    {
     "data": {
      "text/plain": [
       "<matplotlib.axes._subplots.AxesSubplot at 0x217c997e940>"
      ]
     },
     "execution_count": 81,
     "metadata": {},
     "output_type": "execute_result"
    },
    {
     "data": {
      "image/png": "[encoded data removed]",
      "text/plain": [
       "<Figure size 432x288 with 1 Axes>"
      ]
     },
     "metadata": {
      "needs_background": "light"
     },
     "output_type": "display_data"
    }
   ],
   "source": [
    "sns.kdeplot(Bank['Age'])"
   ]
  },
  {
   "cell_type": "code",
   "execution_count": 84,
   "id": "ce5e6f3f",
   "metadata": {},
   "outputs": [
    {
     "name": "stderr",
     "output_type": "stream",
     "text": [
      "C:\\Users\\varun\\Anaconda3\\lib\\site-packages\\matplotlib\\cbook\\__init__.py:1402: FutureWarning: Support for multi-dimensional indexing (e.g. `obj[:, None]`) is deprecated and will be removed in a future version.  Convert to a numpy array before indexing instead.\n",
      "  ndim = x[:, None].ndim\n",
      "C:\\Users\\varun\\Anaconda3\\lib\\site-packages\\matplotlib\\axes\\_base.py:276: FutureWarning: Support for multi-dimensional indexing (e.g. `obj[:, None]`) is deprecated and will be removed in a future version.  Convert to a numpy array before indexing instead.\n",
      "  x = x[:, np.newaxis]\n",
      "C:\\Users\\varun\\Anaconda3\\lib\\site-packages\\matplotlib\\axes\\_base.py:278: FutureWarning: Support for multi-dimensional indexing (e.g. `obj[:, None]`) is deprecated and will be removed in a future version.  Convert to a numpy array before indexing instead.\n",
      "  y = y[:, np.newaxis]\n"
     ]
    },
    {
     "data": {
      "text/plain": [
       "<matplotlib.axes._subplots.AxesSubplot at 0x217c9b97f98>"
      ]
     },
     "execution_count": 84,
     "metadata": {},
     "output_type": "execute_result"
    },
    {
     "data": {
      "image/png": "[encoded data removed]",
      "text/plain": [
       "<Figure size 432x288 with 1 Axes>"
      ]
     },
     "metadata": {
      "needs_background": "light"
     },
     "output_type": "display_data"
    }
   ],
   "source": [
    "sns.kdeplot(Bank['Annual_Income'])"
   ]
  },
  {
   "cell_type": "code",
   "execution_count": 85,
   "id": "60104a2c",
   "metadata": {},
   "outputs": [
    {
     "name": "stderr",
     "output_type": "stream",
     "text": [
      "C:\\Users\\varun\\Anaconda3\\lib\\site-packages\\matplotlib\\cbook\\__init__.py:1402: FutureWarning: Support for multi-dimensional indexing (e.g. `obj[:, None]`) is deprecated and will be removed in a future version.  Convert to a numpy array before indexing instead.\n",
      "  ndim = x[:, None].ndim\n",
      "C:\\Users\\varun\\Anaconda3\\lib\\site-packages\\matplotlib\\axes\\_base.py:276: FutureWarning: Support for multi-dimensional indexing (e.g. `obj[:, None]`) is deprecated and will be removed in a future version.  Convert to a numpy array before indexing instead.\n",
      "  x = x[:, np.newaxis]\n",
      "C:\\Users\\varun\\Anaconda3\\lib\\site-packages\\matplotlib\\axes\\_base.py:278: FutureWarning: Support for multi-dimensional indexing (e.g. `obj[:, None]`) is deprecated and will be removed in a future version.  Convert to a numpy array before indexing instead.\n",
      "  y = y[:, np.newaxis]\n"
     ]
    },
    {
     "data": {
      "text/plain": [
       "<matplotlib.axes._subplots.AxesSubplot at 0x217c9a7fef0>"
      ]
     },
     "execution_count": 85,
     "metadata": {},
     "output_type": "execute_result"
    },
    {
     "data": {
      "image/png": "[encoded data removed]",
      "text/plain": [
       "<Figure size 432x288 with 1 Axes>"
      ]
     },
     "metadata": {
      "needs_background": "light"
     },
     "output_type": "display_data"
    }
   ],
   "source": [
    "sns.kdeplot(Bank['Monthly_Inhand_Salary'])"
   ]
  },
  {
   "cell_type": "code",
   "execution_count": 86,
   "id": "856e91ec",
   "metadata": {},
   "outputs": [
    {
     "name": "stderr",
     "output_type": "stream",
     "text": [
      "C:\\Users\\varun\\Anaconda3\\lib\\site-packages\\matplotlib\\cbook\\__init__.py:1402: FutureWarning: Support for multi-dimensional indexing (e.g. `obj[:, None]`) is deprecated and will be removed in a future version.  Convert to a numpy array before indexing instead.\n",
      "  ndim = x[:, None].ndim\n",
      "C:\\Users\\varun\\Anaconda3\\lib\\site-packages\\matplotlib\\axes\\_base.py:276: FutureWarning: Support for multi-dimensional indexing (e.g. `obj[:, None]`) is deprecated and will be removed in a future version.  Convert to a numpy array before indexing instead.\n",
      "  x = x[:, np.newaxis]\n",
      "C:\\Users\\varun\\Anaconda3\\lib\\site-packages\\matplotlib\\axes\\_base.py:278: FutureWarning: Support for multi-dimensional indexing (e.g. `obj[:, None]`) is deprecated and will be removed in a future version.  Convert to a numpy array before indexing instead.\n",
      "  y = y[:, np.newaxis]\n"
     ]
    },
    {
     "data": {
      "text/plain": [
       "<matplotlib.axes._subplots.AxesSubplot at 0x217c7badd68>"
      ]
     },
     "execution_count": 86,
     "metadata": {},
     "output_type": "execute_result"
    },
    {
     "data": {
      "image/png": "[encoded data removed]",
      "text/plain": [
       "<Figure size 432x288 with 1 Axes>"
      ]
     },
     "metadata": {
      "needs_background": "light"
     },
     "output_type": "display_data"
    }
   ],
   "source": [
    "sns.kdeplot(Bank['Changed_Credit_Limit'])"
   ]
  },
  {
   "cell_type": "code",
   "execution_count": 87,
   "id": "cdcf625c",
   "metadata": {},
   "outputs": [
    {
     "name": "stderr",
     "output_type": "stream",
     "text": [
      "C:\\Users\\varun\\Anaconda3\\lib\\site-packages\\matplotlib\\cbook\\__init__.py:1402: FutureWarning: Support for multi-dimensional indexing (e.g. `obj[:, None]`) is deprecated and will be removed in a future version.  Convert to a numpy array before indexing instead.\n",
      "  ndim = x[:, None].ndim\n",
      "C:\\Users\\varun\\Anaconda3\\lib\\site-packages\\matplotlib\\axes\\_base.py:276: FutureWarning: Support for multi-dimensional indexing (e.g. `obj[:, None]`) is deprecated and will be removed in a future version.  Convert to a numpy array before indexing instead.\n",
      "  x = x[:, np.newaxis]\n",
      "C:\\Users\\varun\\Anaconda3\\lib\\site-packages\\matplotlib\\axes\\_base.py:278: FutureWarning: Support for multi-dimensional indexing (e.g. `obj[:, None]`) is deprecated and will be removed in a future version.  Convert to a numpy array before indexing instead.\n",
      "  y = y[:, np.newaxis]\n"
     ]
    },
    {
     "data": {
      "text/plain": [
       "<matplotlib.axes._subplots.AxesSubplot at 0x217c7616940>"
      ]
     },
     "execution_count": 87,
     "metadata": {},
     "output_type": "execute_result"
    },
    {
     "data": {
      "image/png": "[encoded data removed]",
      "text/plain": [
       "<Figure size 432x288 with 1 Axes>"
      ]
     },
     "metadata": {
      "needs_background": "light"
     },
     "output_type": "display_data"
    }
   ],
   "source": [
    "sns.kdeplot(Bank['Outstanding_Debt'])"
   ]
  },
  {
   "cell_type": "code",
   "execution_count": 88,
   "id": "dcb3c8f2",
   "metadata": {},
   "outputs": [
    {
     "name": "stderr",
     "output_type": "stream",
     "text": [
      "C:\\Users\\varun\\Anaconda3\\lib\\site-packages\\matplotlib\\cbook\\__init__.py:1402: FutureWarning: Support for multi-dimensional indexing (e.g. `obj[:, None]`) is deprecated and will be removed in a future version.  Convert to a numpy array before indexing instead.\n",
      "  ndim = x[:, None].ndim\n",
      "C:\\Users\\varun\\Anaconda3\\lib\\site-packages\\matplotlib\\axes\\_base.py:276: FutureWarning: Support for multi-dimensional indexing (e.g. `obj[:, None]`) is deprecated and will be removed in a future version.  Convert to a numpy array before indexing instead.\n",
      "  x = x[:, np.newaxis]\n",
      "C:\\Users\\varun\\Anaconda3\\lib\\site-packages\\matplotlib\\axes\\_base.py:278: FutureWarning: Support for multi-dimensional indexing (e.g. `obj[:, None]`) is deprecated and will be removed in a future version.  Convert to a numpy array before indexing instead.\n",
      "  y = y[:, np.newaxis]\n"
     ]
    },
    {
     "data": {
      "text/plain": [
       "<matplotlib.axes._subplots.AxesSubplot at 0x217c7693080>"
      ]
     },
     "execution_count": 88,
     "metadata": {},
     "output_type": "execute_result"
    },
    {
     "data": {
      "image/png": "[encoded data removed]",
      "text/plain": [
       "<Figure size 432x288 with 1 Axes>"
      ]
     },
     "metadata": {
      "needs_background": "light"
     },
     "output_type": "display_data"
    }
   ],
   "source": [
    "sns.kdeplot(Bank['Credit_Utilization_Ratio'])"
   ]
  },
  {
   "cell_type": "code",
   "execution_count": 89,
   "id": "74d9a7cf",
   "metadata": {},
   "outputs": [
    {
     "name": "stderr",
     "output_type": "stream",
     "text": [
      "C:\\Users\\varun\\Anaconda3\\lib\\site-packages\\matplotlib\\cbook\\__init__.py:1402: FutureWarning: Support for multi-dimensional indexing (e.g. `obj[:, None]`) is deprecated and will be removed in a future version.  Convert to a numpy array before indexing instead.\n",
      "  ndim = x[:, None].ndim\n",
      "C:\\Users\\varun\\Anaconda3\\lib\\site-packages\\matplotlib\\axes\\_base.py:276: FutureWarning: Support for multi-dimensional indexing (e.g. `obj[:, None]`) is deprecated and will be removed in a future version.  Convert to a numpy array before indexing instead.\n",
      "  x = x[:, np.newaxis]\n",
      "C:\\Users\\varun\\Anaconda3\\lib\\site-packages\\matplotlib\\axes\\_base.py:278: FutureWarning: Support for multi-dimensional indexing (e.g. `obj[:, None]`) is deprecated and will be removed in a future version.  Convert to a numpy array before indexing instead.\n",
      "  y = y[:, np.newaxis]\n"
     ]
    },
    {
     "data": {
      "text/plain": [
       "<matplotlib.axes._subplots.AxesSubplot at 0x217c9ad0860>"
      ]
     },
     "execution_count": 89,
     "metadata": {},
     "output_type": "execute_result"
    },
    {
     "data": {
      "image/png": "[encoded data removed]",
      "text/plain": [
       "<Figure size 432x288 with 1 Axes>"
      ]
     },
     "metadata": {
      "needs_background": "light"
     },
     "output_type": "display_data"
    }
   ],
   "source": [
    "sns.kdeplot(Bank['Credit_History_Age'])"
   ]
  },
  {
   "cell_type": "code",
   "execution_count": 90,
   "id": "c9285d98",
   "metadata": {},
   "outputs": [
    {
     "name": "stderr",
     "output_type": "stream",
     "text": [
      "C:\\Users\\varun\\Anaconda3\\lib\\site-packages\\matplotlib\\cbook\\__init__.py:1402: FutureWarning: Support for multi-dimensional indexing (e.g. `obj[:, None]`) is deprecated and will be removed in a future version.  Convert to a numpy array before indexing instead.\n",
      "  ndim = x[:, None].ndim\n",
      "C:\\Users\\varun\\Anaconda3\\lib\\site-packages\\matplotlib\\axes\\_base.py:276: FutureWarning: Support for multi-dimensional indexing (e.g. `obj[:, None]`) is deprecated and will be removed in a future version.  Convert to a numpy array before indexing instead.\n",
      "  x = x[:, np.newaxis]\n",
      "C:\\Users\\varun\\Anaconda3\\lib\\site-packages\\matplotlib\\axes\\_base.py:278: FutureWarning: Support for multi-dimensional indexing (e.g. `obj[:, None]`) is deprecated and will be removed in a future version.  Convert to a numpy array before indexing instead.\n",
      "  y = y[:, np.newaxis]\n"
     ]
    },
    {
     "data": {
      "text/plain": [
       "<matplotlib.axes._subplots.AxesSubplot at 0x217c9ac0a90>"
      ]
     },
     "execution_count": 90,
     "metadata": {},
     "output_type": "execute_result"
    },
    {
     "data": {
      "image/png": "[encoded data removed]",
      "text/plain": [
       "<Figure size 432x288 with 1 Axes>"
      ]
     },
     "metadata": {
      "needs_background": "light"
     },
     "output_type": "display_data"
    }
   ],
   "source": [
    "sns.kdeplot(Bank['Total_EMI_per_month'])"
   ]
  },
  {
   "cell_type": "code",
   "execution_count": 91,
   "id": "52eb4906",
   "metadata": {},
   "outputs": [
    {
     "name": "stderr",
     "output_type": "stream",
     "text": [
      "C:\\Users\\varun\\Anaconda3\\lib\\site-packages\\matplotlib\\cbook\\__init__.py:1402: FutureWarning: Support for multi-dimensional indexing (e.g. `obj[:, None]`) is deprecated and will be removed in a future version.  Convert to a numpy array before indexing instead.\n",
      "  ndim = x[:, None].ndim\n",
      "C:\\Users\\varun\\Anaconda3\\lib\\site-packages\\matplotlib\\axes\\_base.py:276: FutureWarning: Support for multi-dimensional indexing (e.g. `obj[:, None]`) is deprecated and will be removed in a future version.  Convert to a numpy array before indexing instead.\n",
      "  x = x[:, np.newaxis]\n",
      "C:\\Users\\varun\\Anaconda3\\lib\\site-packages\\matplotlib\\axes\\_base.py:278: FutureWarning: Support for multi-dimensional indexing (e.g. `obj[:, None]`) is deprecated and will be removed in a future version.  Convert to a numpy array before indexing instead.\n",
      "  y = y[:, np.newaxis]\n"
     ]
    },
    {
     "data": {
      "text/plain": [
       "<matplotlib.axes._subplots.AxesSubplot at 0x217c7c80ba8>"
      ]
     },
     "execution_count": 91,
     "metadata": {},
     "output_type": "execute_result"
    },
    {
     "data": {
      "image/png": "[encoded data removed]",
      "text/plain": [
       "<Figure size 432x288 with 1 Axes>"
      ]
     },
     "metadata": {
      "needs_background": "light"
     },
     "output_type": "display_data"
    }
   ],
   "source": [
    "sns.kdeplot(Bank['Amount_invested_monthly'])"
   ]
  },
  {
   "cell_type": "code",
   "execution_count": 103,
   "id": "2a0e5d10",
   "metadata": {},
   "outputs": [
    {
     "name": "stderr",
     "output_type": "stream",
     "text": [
      "C:\\Users\\varun\\Anaconda3\\lib\\site-packages\\matplotlib\\cbook\\__init__.py:1402: FutureWarning: Support for multi-dimensional indexing (e.g. `obj[:, None]`) is deprecated and will be removed in a future version.  Convert to a numpy array before indexing instead.\n",
      "  ndim = x[:, None].ndim\n",
      "C:\\Users\\varun\\Anaconda3\\lib\\site-packages\\matplotlib\\axes\\_base.py:276: FutureWarning: Support for multi-dimensional indexing (e.g. `obj[:, None]`) is deprecated and will be removed in a future version.  Convert to a numpy array before indexing instead.\n",
      "  x = x[:, np.newaxis]\n",
      "C:\\Users\\varun\\Anaconda3\\lib\\site-packages\\matplotlib\\axes\\_base.py:278: FutureWarning: Support for multi-dimensional indexing (e.g. `obj[:, None]`) is deprecated and will be removed in a future version.  Convert to a numpy array before indexing instead.\n",
      "  y = y[:, np.newaxis]\n"
     ]
    },
    {
     "data": {
      "text/plain": [
       "<matplotlib.axes._subplots.AxesSubplot at 0x217c7c0e3c8>"
      ]
     },
     "execution_count": 103,
     "metadata": {},
     "output_type": "execute_result"
    },
    {
     "data": {
      "image/png": "[encoded data removed]",
      "text/plain": [
       "<Figure size 432x288 with 1 Axes>"
      ]
     },
     "metadata": {
      "needs_background": "light"
     },
     "output_type": "display_data"
    }
   ],
   "source": [
    "sns.kdeplot(Bank['Monthly_Balance'])"
   ]
  },
  {
   "cell_type": "code",
   "execution_count": 113,
   "id": "c20b7c88",
   "metadata": {},
   "outputs": [
    {
     "name": "stderr",
     "output_type": "stream",
     "text": [
      "C:\\Users\\varun\\Anaconda3\\lib\\site-packages\\matplotlib\\cbook\\__init__.py:1402: FutureWarning: Support for multi-dimensional indexing (e.g. `obj[:, None]`) is deprecated and will be removed in a future version.  Convert to a numpy array before indexing instead.\n",
      "  ndim = x[:, None].ndim\n",
      "C:\\Users\\varun\\Anaconda3\\lib\\site-packages\\matplotlib\\axes\\_base.py:276: FutureWarning: Support for multi-dimensional indexing (e.g. `obj[:, None]`) is deprecated and will be removed in a future version.  Convert to a numpy array before indexing instead.\n",
      "  x = x[:, np.newaxis]\n",
      "C:\\Users\\varun\\Anaconda3\\lib\\site-packages\\matplotlib\\axes\\_base.py:278: FutureWarning: Support for multi-dimensional indexing (e.g. `obj[:, None]`) is deprecated and will be removed in a future version.  Convert to a numpy array before indexing instead.\n",
      "  y = y[:, np.newaxis]\n",
      "C:\\Users\\varun\\Anaconda3\\lib\\site-packages\\seaborn\\_decorators.py:43: FutureWarning: Pass the following variable as a keyword arg: x. From version 0.12, the only valid positional argument will be `data`, and passing other arguments without an explicit keyword will result in an error or misinterpretation.\n",
      "  FutureWarning\n"
     ]
    },
    {
     "data": {
      "image/png": "[encoded data removed]",
      "text/plain": [
       "<Figure size 432x288 with 2 Axes>"
      ]
     },
     "metadata": {
      "needs_background": "light"
     },
     "output_type": "display_data"
    }
   ],
   "source": [
    "plt.subplot(1, 2, 1) # row 1, col 2 index 1\n",
    "sns.kdeplot(Bank['Monthly_Balance'])\n",
    "plt.title(\"Distibution plot\")\n",
    "plt.xlabel('X-axis ')\n",
    "plt.ylabel('Y-axis ')\n",
    "\n",
    "\n",
    "plt.subplot(1, 2, 2) # index 2\n",
    "sns.boxplot(Bank['Monthly_Balance'])\n",
    "plt.title(\"Box plot\")\n",
    "plt.xlabel('X-axis ')\n",
    "plt.ylabel('Y-axis ')\n",
    "\n",
    "plt.show()"
   ]
  },
  {
   "cell_type": "code",
   "execution_count": 115,
   "id": "27ad9c8e",
   "metadata": {},
   "outputs": [
    {
     "name": "stderr",
     "output_type": "stream",
     "text": [
      "C:\\Users\\varun\\Anaconda3\\lib\\site-packages\\seaborn\\_decorators.py:43: FutureWarning: Pass the following variable as a keyword arg: x. From version 0.12, the only valid positional argument will be `data`, and passing other arguments without an explicit keyword will result in an error or misinterpretation.\n",
      "  FutureWarning\n"
     ]
    },
    {
     "data": {
      "text/plain": [
       "<matplotlib.axes._subplots.AxesSubplot at 0x217ca2012e8>"
      ]
     },
     "execution_count": 115,
     "metadata": {},
     "output_type": "execute_result"
    },
    {
     "data": {
      "image/png": "[encoded data removed]",
      "text/plain": [
       "<Figure size 432x288 with 1 Axes>"
      ]
     },
     "metadata": {
      "needs_background": "light"
     },
     "output_type": "display_data"
    }
   ],
   "source": [
    "sns.boxplot(Bank['Monthly_Balance'])"
   ]
  },
  {
   "cell_type": "code",
   "execution_count": 116,
   "id": "1cbae89a",
   "metadata": {},
   "outputs": [
    {
     "data": {
      "text/html": [
       "<div>\n",
       "<style scoped>\n",
       "    .dataframe tbody tr th:only-of-type {\n",
       "        vertical-align: middle;\n",
       "    }\n",
       "\n",
       "    .dataframe tbody tr th {\n",
       "        vertical-align: top;\n",
       "    }\n",
       "\n",
       "    .dataframe thead th {\n",
       "        text-align: right;\n",
       "    }\n",
       "</style>\n",
       "<table border=\"1\" class=\"dataframe\">\n",
       "  <thead>\n",
       "    <tr style=\"text-align: right;\">\n",
       "      <th></th>\n",
       "      <th>Age</th>\n",
       "      <th>Occupation</th>\n",
       "      <th>Annual_Income</th>\n",
       "      <th>Monthly_Inhand_Salary</th>\n",
       "      <th>Num_Bank_Accounts</th>\n",
       "      <th>Num_Credit_Card</th>\n",
       "      <th>Interest_Rate</th>\n",
       "      <th>Num_of_Loan</th>\n",
       "      <th>Delay_from_due_date</th>\n",
       "      <th>Num_of_Delayed_Payment</th>\n",
       "      <th>...</th>\n",
       "      <th>Credit_Score</th>\n",
       "      <th>Auto Loan</th>\n",
       "      <th>Credit-Builder Loan</th>\n",
       "      <th>Debt Consolidation Loan</th>\n",
       "      <th>Home Equity Loan</th>\n",
       "      <th>Mortgage Loan</th>\n",
       "      <th>Not Specified</th>\n",
       "      <th>Payday Loan</th>\n",
       "      <th>Personal Loan</th>\n",
       "      <th>Student Loan</th>\n",
       "    </tr>\n",
       "  </thead>\n",
       "  <tbody>\n",
       "    <tr>\n",
       "      <th>Age</th>\n",
       "      <td>1.000000</td>\n",
       "      <td>-0.003803</td>\n",
       "      <td>0.088043</td>\n",
       "      <td>0.087202</td>\n",
       "      <td>-0.189048</td>\n",
       "      <td>-0.146879</td>\n",
       "      <td>-0.217313</td>\n",
       "      <td>-0.212209</td>\n",
       "      <td>-0.171615</td>\n",
       "      <td>-0.179540</td>\n",
       "      <td>...</td>\n",
       "      <td>-0.056775</td>\n",
       "      <td>-0.083645</td>\n",
       "      <td>-0.079249</td>\n",
       "      <td>-0.089129</td>\n",
       "      <td>-0.076683</td>\n",
       "      <td>-0.085451</td>\n",
       "      <td>-0.026875</td>\n",
       "      <td>-0.079616</td>\n",
       "      <td>-0.098738</td>\n",
       "      <td>-0.077463</td>\n",
       "    </tr>\n",
       "    <tr>\n",
       "      <th>Occupation</th>\n",
       "      <td>-0.003803</td>\n",
       "      <td>1.000000</td>\n",
       "      <td>0.005776</td>\n",
       "      <td>0.005310</td>\n",
       "      <td>0.011168</td>\n",
       "      <td>0.001896</td>\n",
       "      <td>0.004596</td>\n",
       "      <td>-0.004756</td>\n",
       "      <td>0.006749</td>\n",
       "      <td>-0.007231</td>\n",
       "      <td>...</td>\n",
       "      <td>0.006326</td>\n",
       "      <td>0.005287</td>\n",
       "      <td>0.003273</td>\n",
       "      <td>-0.001926</td>\n",
       "      <td>-0.009122</td>\n",
       "      <td>-0.009847</td>\n",
       "      <td>-0.012277</td>\n",
       "      <td>0.000908</td>\n",
       "      <td>-0.009550</td>\n",
       "      <td>0.004370</td>\n",
       "    </tr>\n",
       "    <tr>\n",
       "      <th>Annual_Income</th>\n",
       "      <td>0.088043</td>\n",
       "      <td>0.005776</td>\n",
       "      <td>1.000000</td>\n",
       "      <td>0.997902</td>\n",
       "      <td>-0.254238</td>\n",
       "      <td>-0.203215</td>\n",
       "      <td>-0.280079</td>\n",
       "      <td>-0.242413</td>\n",
       "      <td>-0.228637</td>\n",
       "      <td>-0.247176</td>\n",
       "      <td>...</td>\n",
       "      <td>-0.054512</td>\n",
       "      <td>-0.095647</td>\n",
       "      <td>-0.111915</td>\n",
       "      <td>-0.104022</td>\n",
       "      <td>-0.092800</td>\n",
       "      <td>-0.087299</td>\n",
       "      <td>-0.004643</td>\n",
       "      <td>-0.092665</td>\n",
       "      <td>-0.100945</td>\n",
       "      <td>-0.090600</td>\n",
       "    </tr>\n",
       "    <tr>\n",
       "      <th>Monthly_Inhand_Salary</th>\n",
       "      <td>0.087202</td>\n",
       "      <td>0.005310</td>\n",
       "      <td>0.997902</td>\n",
       "      <td>1.000000</td>\n",
       "      <td>-0.253313</td>\n",
       "      <td>-0.202084</td>\n",
       "      <td>-0.279642</td>\n",
       "      <td>-0.241073</td>\n",
       "      <td>-0.228005</td>\n",
       "      <td>-0.246250</td>\n",
       "      <td>...</td>\n",
       "      <td>-0.052606</td>\n",
       "      <td>-0.095074</td>\n",
       "      <td>-0.110650</td>\n",
       "      <td>-0.104121</td>\n",
       "      <td>-0.091991</td>\n",
       "      <td>-0.086786</td>\n",
       "      <td>-0.004894</td>\n",
       "      <td>-0.092900</td>\n",
       "      <td>-0.099429</td>\n",
       "      <td>-0.090007</td>\n",
       "    </tr>\n",
       "    <tr>\n",
       "      <th>Num_Bank_Accounts</th>\n",
       "      <td>-0.189048</td>\n",
       "      <td>0.011168</td>\n",
       "      <td>-0.254238</td>\n",
       "      <td>-0.253313</td>\n",
       "      <td>1.000000</td>\n",
       "      <td>0.439401</td>\n",
       "      <td>0.577907</td>\n",
       "      <td>0.467373</td>\n",
       "      <td>0.555023</td>\n",
       "      <td>0.580492</td>\n",
       "      <td>...</td>\n",
       "      <td>0.167913</td>\n",
       "      <td>0.183558</td>\n",
       "      <td>0.191665</td>\n",
       "      <td>0.170359</td>\n",
       "      <td>0.183340</td>\n",
       "      <td>0.195609</td>\n",
       "      <td>0.048836</td>\n",
       "      <td>0.185367</td>\n",
       "      <td>0.188948</td>\n",
       "      <td>0.159577</td>\n",
       "    </tr>\n",
       "    <tr>\n",
       "      <th>Num_Credit_Card</th>\n",
       "      <td>-0.146879</td>\n",
       "      <td>0.001896</td>\n",
       "      <td>-0.203215</td>\n",
       "      <td>-0.202084</td>\n",
       "      <td>0.439401</td>\n",
       "      <td>1.000000</td>\n",
       "      <td>0.495154</td>\n",
       "      <td>0.415168</td>\n",
       "      <td>0.476450</td>\n",
       "      <td>0.412519</td>\n",
       "      <td>...</td>\n",
       "      <td>0.103427</td>\n",
       "      <td>0.160365</td>\n",
       "      <td>0.167188</td>\n",
       "      <td>0.150883</td>\n",
       "      <td>0.154202</td>\n",
       "      <td>0.168336</td>\n",
       "      <td>0.057446</td>\n",
       "      <td>0.167287</td>\n",
       "      <td>0.158535</td>\n",
       "      <td>0.155195</td>\n",
       "    </tr>\n",
       "    <tr>\n",
       "      <th>Interest_Rate</th>\n",
       "      <td>-0.217313</td>\n",
       "      <td>0.004596</td>\n",
       "      <td>-0.280079</td>\n",
       "      <td>-0.279642</td>\n",
       "      <td>0.577907</td>\n",
       "      <td>0.495154</td>\n",
       "      <td>1.000000</td>\n",
       "      <td>0.554926</td>\n",
       "      <td>0.584543</td>\n",
       "      <td>0.552962</td>\n",
       "      <td>...</td>\n",
       "      <td>0.111254</td>\n",
       "      <td>0.225154</td>\n",
       "      <td>0.224769</td>\n",
       "      <td>0.208144</td>\n",
       "      <td>0.222497</td>\n",
       "      <td>0.222115</td>\n",
       "      <td>0.055912</td>\n",
       "      <td>0.218284</td>\n",
       "      <td>0.211013</td>\n",
       "      <td>0.211475</td>\n",
       "    </tr>\n",
       "    <tr>\n",
       "      <th>Num_of_Loan</th>\n",
       "      <td>-0.212209</td>\n",
       "      <td>-0.004756</td>\n",
       "      <td>-0.242413</td>\n",
       "      <td>-0.241073</td>\n",
       "      <td>0.467373</td>\n",
       "      <td>0.415168</td>\n",
       "      <td>0.554926</td>\n",
       "      <td>1.000000</td>\n",
       "      <td>0.497130</td>\n",
       "      <td>0.460961</td>\n",
       "      <td>...</td>\n",
       "      <td>0.056378</td>\n",
       "      <td>0.389901</td>\n",
       "      <td>0.406471</td>\n",
       "      <td>0.383342</td>\n",
       "      <td>0.401839</td>\n",
       "      <td>0.401418</td>\n",
       "      <td>0.043002</td>\n",
       "      <td>0.402256</td>\n",
       "      <td>0.393614</td>\n",
       "      <td>0.383900</td>\n",
       "    </tr>\n",
       "    <tr>\n",
       "      <th>Delay_from_due_date</th>\n",
       "      <td>-0.171615</td>\n",
       "      <td>0.006749</td>\n",
       "      <td>-0.228637</td>\n",
       "      <td>-0.228005</td>\n",
       "      <td>0.555023</td>\n",
       "      <td>0.476450</td>\n",
       "      <td>0.584543</td>\n",
       "      <td>0.497130</td>\n",
       "      <td>1.000000</td>\n",
       "      <td>0.524747</td>\n",
       "      <td>...</td>\n",
       "      <td>0.086213</td>\n",
       "      <td>0.188588</td>\n",
       "      <td>0.183921</td>\n",
       "      <td>0.194988</td>\n",
       "      <td>0.194292</td>\n",
       "      <td>0.193736</td>\n",
       "      <td>0.052833</td>\n",
       "      <td>0.195462</td>\n",
       "      <td>0.194843</td>\n",
       "      <td>0.186782</td>\n",
       "    </tr>\n",
       "    <tr>\n",
       "      <th>Num_of_Delayed_Payment</th>\n",
       "      <td>-0.179540</td>\n",
       "      <td>-0.007231</td>\n",
       "      <td>-0.247176</td>\n",
       "      <td>-0.246250</td>\n",
       "      <td>0.580492</td>\n",
       "      <td>0.412519</td>\n",
       "      <td>0.552962</td>\n",
       "      <td>0.460961</td>\n",
       "      <td>0.524747</td>\n",
       "      <td>1.000000</td>\n",
       "      <td>...</td>\n",
       "      <td>0.186797</td>\n",
       "      <td>0.188254</td>\n",
       "      <td>0.199519</td>\n",
       "      <td>0.161641</td>\n",
       "      <td>0.184436</td>\n",
       "      <td>0.186303</td>\n",
       "      <td>0.038899</td>\n",
       "      <td>0.173556</td>\n",
       "      <td>0.174468</td>\n",
       "      <td>0.175518</td>\n",
       "    </tr>\n",
       "    <tr>\n",
       "      <th>Changed_Credit_Limit</th>\n",
       "      <td>-0.154784</td>\n",
       "      <td>-0.001718</td>\n",
       "      <td>-0.154719</td>\n",
       "      <td>-0.154653</td>\n",
       "      <td>0.318716</td>\n",
       "      <td>0.243672</td>\n",
       "      <td>0.355847</td>\n",
       "      <td>0.360598</td>\n",
       "      <td>0.280118</td>\n",
       "      <td>0.304755</td>\n",
       "      <td>...</td>\n",
       "      <td>0.186818</td>\n",
       "      <td>0.143792</td>\n",
       "      <td>0.147331</td>\n",
       "      <td>0.135125</td>\n",
       "      <td>0.146471</td>\n",
       "      <td>0.136216</td>\n",
       "      <td>0.032989</td>\n",
       "      <td>0.132855</td>\n",
       "      <td>0.139411</td>\n",
       "      <td>0.143948</td>\n",
       "    </tr>\n",
       "    <tr>\n",
       "      <th>Num_Credit_Inquiries</th>\n",
       "      <td>-0.252762</td>\n",
       "      <td>0.001292</td>\n",
       "      <td>-0.261746</td>\n",
       "      <td>-0.261314</td>\n",
       "      <td>0.513922</td>\n",
       "      <td>0.457550</td>\n",
       "      <td>0.628188</td>\n",
       "      <td>0.562404</td>\n",
       "      <td>0.535919</td>\n",
       "      <td>0.482947</td>\n",
       "      <td>...</td>\n",
       "      <td>0.057898</td>\n",
       "      <td>0.221698</td>\n",
       "      <td>0.222279</td>\n",
       "      <td>0.217877</td>\n",
       "      <td>0.221504</td>\n",
       "      <td>0.221907</td>\n",
       "      <td>0.051234</td>\n",
       "      <td>0.227272</td>\n",
       "      <td>0.214573</td>\n",
       "      <td>0.221626</td>\n",
       "    </tr>\n",
       "    <tr>\n",
       "      <th>Credit_Mix</th>\n",
       "      <td>0.075316</td>\n",
       "      <td>0.005977</td>\n",
       "      <td>0.113379</td>\n",
       "      <td>0.113037</td>\n",
       "      <td>-0.239254</td>\n",
       "      <td>-0.340300</td>\n",
       "      <td>-0.330098</td>\n",
       "      <td>-0.450419</td>\n",
       "      <td>-0.421928</td>\n",
       "      <td>-0.260491</td>\n",
       "      <td>...</td>\n",
       "      <td>0.234037</td>\n",
       "      <td>-0.158805</td>\n",
       "      <td>-0.171575</td>\n",
       "      <td>-0.151855</td>\n",
       "      <td>-0.166480</td>\n",
       "      <td>-0.170424</td>\n",
       "      <td>-0.079402</td>\n",
       "      <td>-0.167482</td>\n",
       "      <td>-0.162252</td>\n",
       "      <td>-0.158996</td>\n",
       "    </tr>\n",
       "    <tr>\n",
       "      <th>Outstanding_Debt</th>\n",
       "      <td>-0.203581</td>\n",
       "      <td>0.005209</td>\n",
       "      <td>-0.257573</td>\n",
       "      <td>-0.257356</td>\n",
       "      <td>0.502759</td>\n",
       "      <td>0.487669</td>\n",
       "      <td>0.626703</td>\n",
       "      <td>0.637589</td>\n",
       "      <td>0.567526</td>\n",
       "      <td>0.491433</td>\n",
       "      <td>...</td>\n",
       "      <td>0.027553</td>\n",
       "      <td>0.242406</td>\n",
       "      <td>0.249922</td>\n",
       "      <td>0.233220</td>\n",
       "      <td>0.242864</td>\n",
       "      <td>0.249910</td>\n",
       "      <td>0.080103</td>\n",
       "      <td>0.243060</td>\n",
       "      <td>0.244177</td>\n",
       "      <td>0.240156</td>\n",
       "    </tr>\n",
       "    <tr>\n",
       "      <th>Credit_Utilization_Ratio</th>\n",
       "      <td>0.024852</td>\n",
       "      <td>0.002412</td>\n",
       "      <td>0.167858</td>\n",
       "      <td>0.168028</td>\n",
       "      <td>-0.064957</td>\n",
       "      <td>-0.051888</td>\n",
       "      <td>-0.069774</td>\n",
       "      <td>-0.095358</td>\n",
       "      <td>-0.059403</td>\n",
       "      <td>-0.067356</td>\n",
       "      <td>...</td>\n",
       "      <td>-0.011357</td>\n",
       "      <td>-0.035808</td>\n",
       "      <td>-0.040728</td>\n",
       "      <td>-0.043454</td>\n",
       "      <td>-0.041053</td>\n",
       "      <td>-0.040958</td>\n",
       "      <td>0.005596</td>\n",
       "      <td>-0.037176</td>\n",
       "      <td>-0.041831</td>\n",
       "      <td>-0.037453</td>\n",
       "    </tr>\n",
       "    <tr>\n",
       "      <th>Credit_History_Age</th>\n",
       "      <td>0.235230</td>\n",
       "      <td>-0.004894</td>\n",
       "      <td>0.255558</td>\n",
       "      <td>0.254794</td>\n",
       "      <td>-0.480774</td>\n",
       "      <td>-0.415714</td>\n",
       "      <td>-0.572535</td>\n",
       "      <td>-0.606040</td>\n",
       "      <td>-0.486460</td>\n",
       "      <td>-0.466823</td>\n",
       "      <td>...</td>\n",
       "      <td>-0.093474</td>\n",
       "      <td>-0.239383</td>\n",
       "      <td>-0.242161</td>\n",
       "      <td>-0.237689</td>\n",
       "      <td>-0.225359</td>\n",
       "      <td>-0.237966</td>\n",
       "      <td>-0.064381</td>\n",
       "      <td>-0.240266</td>\n",
       "      <td>-0.233509</td>\n",
       "      <td>-0.237079</td>\n",
       "    </tr>\n",
       "    <tr>\n",
       "      <th>Payment_of_Min_Amount</th>\n",
       "      <td>-0.163078</td>\n",
       "      <td>-0.005293</td>\n",
       "      <td>-0.170335</td>\n",
       "      <td>-0.169848</td>\n",
       "      <td>0.354977</td>\n",
       "      <td>0.254864</td>\n",
       "      <td>0.384379</td>\n",
       "      <td>0.319001</td>\n",
       "      <td>0.309114</td>\n",
       "      <td>0.353481</td>\n",
       "      <td>...</td>\n",
       "      <td>0.175067</td>\n",
       "      <td>0.124024</td>\n",
       "      <td>0.131378</td>\n",
       "      <td>0.122587</td>\n",
       "      <td>0.129194</td>\n",
       "      <td>0.125177</td>\n",
       "      <td>0.028807</td>\n",
       "      <td>0.132784</td>\n",
       "      <td>0.127571</td>\n",
       "      <td>0.115753</td>\n",
       "    </tr>\n",
       "    <tr>\n",
       "      <th>Total_EMI_per_month</th>\n",
       "      <td>-0.039722</td>\n",
       "      <td>-0.001749</td>\n",
       "      <td>0.308163</td>\n",
       "      <td>0.297210</td>\n",
       "      <td>0.054072</td>\n",
       "      <td>0.050970</td>\n",
       "      <td>0.067045</td>\n",
       "      <td>0.249701</td>\n",
       "      <td>0.073346</td>\n",
       "      <td>0.053268</td>\n",
       "      <td>...</td>\n",
       "      <td>-0.035336</td>\n",
       "      <td>0.096182</td>\n",
       "      <td>0.100840</td>\n",
       "      <td>0.094258</td>\n",
       "      <td>0.110596</td>\n",
       "      <td>0.107545</td>\n",
       "      <td>0.001569</td>\n",
       "      <td>0.107802</td>\n",
       "      <td>0.088444</td>\n",
       "      <td>0.101013</td>\n",
       "    </tr>\n",
       "    <tr>\n",
       "      <th>Amount_invested_monthly</th>\n",
       "      <td>0.051094</td>\n",
       "      <td>0.008628</td>\n",
       "      <td>0.581030</td>\n",
       "      <td>0.581957</td>\n",
       "      <td>-0.147778</td>\n",
       "      <td>-0.123586</td>\n",
       "      <td>-0.168912</td>\n",
       "      <td>-0.145423</td>\n",
       "      <td>-0.138524</td>\n",
       "      <td>-0.142150</td>\n",
       "      <td>...</td>\n",
       "      <td>-0.037063</td>\n",
       "      <td>-0.058414</td>\n",
       "      <td>-0.071773</td>\n",
       "      <td>-0.062282</td>\n",
       "      <td>-0.057349</td>\n",
       "      <td>-0.049648</td>\n",
       "      <td>-0.002602</td>\n",
       "      <td>-0.054707</td>\n",
       "      <td>-0.058694</td>\n",
       "      <td>-0.055085</td>\n",
       "    </tr>\n",
       "    <tr>\n",
       "      <th>Payment_Behaviour</th>\n",
       "      <td>-0.032652</td>\n",
       "      <td>0.001089</td>\n",
       "      <td>-0.349704</td>\n",
       "      <td>-0.351366</td>\n",
       "      <td>0.100623</td>\n",
       "      <td>0.074923</td>\n",
       "      <td>0.110223</td>\n",
       "      <td>0.096000</td>\n",
       "      <td>0.090708</td>\n",
       "      <td>0.096406</td>\n",
       "      <td>...</td>\n",
       "      <td>0.025076</td>\n",
       "      <td>0.037294</td>\n",
       "      <td>0.040742</td>\n",
       "      <td>0.043253</td>\n",
       "      <td>0.031978</td>\n",
       "      <td>0.038543</td>\n",
       "      <td>-0.000622</td>\n",
       "      <td>0.041461</td>\n",
       "      <td>0.043524</td>\n",
       "      <td>0.027721</td>\n",
       "    </tr>\n",
       "    <tr>\n",
       "      <th>Monthly_Balance</th>\n",
       "      <td>0.121015</td>\n",
       "      <td>0.001911</td>\n",
       "      <td>0.699028</td>\n",
       "      <td>0.700290</td>\n",
       "      <td>-0.291357</td>\n",
       "      <td>-0.237028</td>\n",
       "      <td>-0.324920</td>\n",
       "      <td>-0.448981</td>\n",
       "      <td>-0.277362</td>\n",
       "      <td>-0.288236</td>\n",
       "      <td>...</td>\n",
       "      <td>-0.048744</td>\n",
       "      <td>-0.175270</td>\n",
       "      <td>-0.192371</td>\n",
       "      <td>-0.180797</td>\n",
       "      <td>-0.183078</td>\n",
       "      <td>-0.178843</td>\n",
       "      <td>0.002880</td>\n",
       "      <td>-0.180914</td>\n",
       "      <td>-0.181094</td>\n",
       "      <td>-0.172767</td>\n",
       "    </tr>\n",
       "    <tr>\n",
       "      <th>Credit_Score</th>\n",
       "      <td>-0.056775</td>\n",
       "      <td>0.006326</td>\n",
       "      <td>-0.054512</td>\n",
       "      <td>-0.052606</td>\n",
       "      <td>0.167913</td>\n",
       "      <td>0.103427</td>\n",
       "      <td>0.111254</td>\n",
       "      <td>0.056378</td>\n",
       "      <td>0.086213</td>\n",
       "      <td>0.186797</td>\n",
       "      <td>...</td>\n",
       "      <td>1.000000</td>\n",
       "      <td>0.024343</td>\n",
       "      <td>0.020380</td>\n",
       "      <td>0.029770</td>\n",
       "      <td>0.023808</td>\n",
       "      <td>0.018752</td>\n",
       "      <td>-0.010607</td>\n",
       "      <td>0.022282</td>\n",
       "      <td>0.034419</td>\n",
       "      <td>0.016232</td>\n",
       "    </tr>\n",
       "    <tr>\n",
       "      <th>Auto Loan</th>\n",
       "      <td>-0.083645</td>\n",
       "      <td>0.005287</td>\n",
       "      <td>-0.095647</td>\n",
       "      <td>-0.095074</td>\n",
       "      <td>0.183558</td>\n",
       "      <td>0.160365</td>\n",
       "      <td>0.225154</td>\n",
       "      <td>0.389901</td>\n",
       "      <td>0.188588</td>\n",
       "      <td>0.188254</td>\n",
       "      <td>...</td>\n",
       "      <td>0.024343</td>\n",
       "      <td>1.000000</td>\n",
       "      <td>0.091592</td>\n",
       "      <td>0.077610</td>\n",
       "      <td>0.067058</td>\n",
       "      <td>0.070680</td>\n",
       "      <td>-0.094024</td>\n",
       "      <td>0.086986</td>\n",
       "      <td>0.080827</td>\n",
       "      <td>0.068491</td>\n",
       "    </tr>\n",
       "    <tr>\n",
       "      <th>Credit-Builder Loan</th>\n",
       "      <td>-0.079249</td>\n",
       "      <td>0.003273</td>\n",
       "      <td>-0.111915</td>\n",
       "      <td>-0.110650</td>\n",
       "      <td>0.191665</td>\n",
       "      <td>0.167188</td>\n",
       "      <td>0.224769</td>\n",
       "      <td>0.406471</td>\n",
       "      <td>0.183921</td>\n",
       "      <td>0.199519</td>\n",
       "      <td>...</td>\n",
       "      <td>0.020380</td>\n",
       "      <td>0.091592</td>\n",
       "      <td>1.000000</td>\n",
       "      <td>0.070365</td>\n",
       "      <td>0.103851</td>\n",
       "      <td>0.074386</td>\n",
       "      <td>-0.090408</td>\n",
       "      <td>0.074312</td>\n",
       "      <td>0.082021</td>\n",
       "      <td>0.072329</td>\n",
       "    </tr>\n",
       "    <tr>\n",
       "      <th>Debt Consolidation Loan</th>\n",
       "      <td>-0.089129</td>\n",
       "      <td>-0.001926</td>\n",
       "      <td>-0.104022</td>\n",
       "      <td>-0.104121</td>\n",
       "      <td>0.170359</td>\n",
       "      <td>0.150883</td>\n",
       "      <td>0.208144</td>\n",
       "      <td>0.383342</td>\n",
       "      <td>0.194988</td>\n",
       "      <td>0.161641</td>\n",
       "      <td>...</td>\n",
       "      <td>0.029770</td>\n",
       "      <td>0.077610</td>\n",
       "      <td>0.070365</td>\n",
       "      <td>1.000000</td>\n",
       "      <td>0.081172</td>\n",
       "      <td>0.070487</td>\n",
       "      <td>-0.079436</td>\n",
       "      <td>0.079692</td>\n",
       "      <td>0.076332</td>\n",
       "      <td>0.052089</td>\n",
       "    </tr>\n",
       "    <tr>\n",
       "      <th>Home Equity Loan</th>\n",
       "      <td>-0.076683</td>\n",
       "      <td>-0.009122</td>\n",
       "      <td>-0.092800</td>\n",
       "      <td>-0.091991</td>\n",
       "      <td>0.183340</td>\n",
       "      <td>0.154202</td>\n",
       "      <td>0.222497</td>\n",
       "      <td>0.401839</td>\n",
       "      <td>0.194292</td>\n",
       "      <td>0.184436</td>\n",
       "      <td>...</td>\n",
       "      <td>0.023808</td>\n",
       "      <td>0.067058</td>\n",
       "      <td>0.103851</td>\n",
       "      <td>0.081172</td>\n",
       "      <td>1.000000</td>\n",
       "      <td>0.081631</td>\n",
       "      <td>-0.087353</td>\n",
       "      <td>0.082151</td>\n",
       "      <td>0.086390</td>\n",
       "      <td>0.068675</td>\n",
       "    </tr>\n",
       "    <tr>\n",
       "      <th>Mortgage Loan</th>\n",
       "      <td>-0.085451</td>\n",
       "      <td>-0.009847</td>\n",
       "      <td>-0.087299</td>\n",
       "      <td>-0.086786</td>\n",
       "      <td>0.195609</td>\n",
       "      <td>0.168336</td>\n",
       "      <td>0.222115</td>\n",
       "      <td>0.401418</td>\n",
       "      <td>0.193736</td>\n",
       "      <td>0.186303</td>\n",
       "      <td>...</td>\n",
       "      <td>0.018752</td>\n",
       "      <td>0.070680</td>\n",
       "      <td>0.074386</td>\n",
       "      <td>0.070487</td>\n",
       "      <td>0.081631</td>\n",
       "      <td>1.000000</td>\n",
       "      <td>-0.061003</td>\n",
       "      <td>0.068396</td>\n",
       "      <td>0.087138</td>\n",
       "      <td>0.072722</td>\n",
       "    </tr>\n",
       "    <tr>\n",
       "      <th>Not Specified</th>\n",
       "      <td>-0.026875</td>\n",
       "      <td>-0.012277</td>\n",
       "      <td>-0.004643</td>\n",
       "      <td>-0.004894</td>\n",
       "      <td>0.048836</td>\n",
       "      <td>0.057446</td>\n",
       "      <td>0.055912</td>\n",
       "      <td>0.043002</td>\n",
       "      <td>0.052833</td>\n",
       "      <td>0.038899</td>\n",
       "      <td>...</td>\n",
       "      <td>-0.010607</td>\n",
       "      <td>-0.094024</td>\n",
       "      <td>-0.090408</td>\n",
       "      <td>-0.079436</td>\n",
       "      <td>-0.087353</td>\n",
       "      <td>-0.061003</td>\n",
       "      <td>1.000000</td>\n",
       "      <td>-0.087468</td>\n",
       "      <td>-0.094052</td>\n",
       "      <td>-0.079775</td>\n",
       "    </tr>\n",
       "    <tr>\n",
       "      <th>Payday Loan</th>\n",
       "      <td>-0.079616</td>\n",
       "      <td>0.000908</td>\n",
       "      <td>-0.092665</td>\n",
       "      <td>-0.092900</td>\n",
       "      <td>0.185367</td>\n",
       "      <td>0.167287</td>\n",
       "      <td>0.218284</td>\n",
       "      <td>0.402256</td>\n",
       "      <td>0.195462</td>\n",
       "      <td>0.173556</td>\n",
       "      <td>...</td>\n",
       "      <td>0.022282</td>\n",
       "      <td>0.086986</td>\n",
       "      <td>0.074312</td>\n",
       "      <td>0.079692</td>\n",
       "      <td>0.082151</td>\n",
       "      <td>0.068396</td>\n",
       "      <td>-0.087468</td>\n",
       "      <td>1.000000</td>\n",
       "      <td>0.071679</td>\n",
       "      <td>0.073403</td>\n",
       "    </tr>\n",
       "    <tr>\n",
       "      <th>Personal Loan</th>\n",
       "      <td>-0.098738</td>\n",
       "      <td>-0.009550</td>\n",
       "      <td>-0.100945</td>\n",
       "      <td>-0.099429</td>\n",
       "      <td>0.188948</td>\n",
       "      <td>0.158535</td>\n",
       "      <td>0.211013</td>\n",
       "      <td>0.393614</td>\n",
       "      <td>0.194843</td>\n",
       "      <td>0.174468</td>\n",
       "      <td>...</td>\n",
       "      <td>0.034419</td>\n",
       "      <td>0.080827</td>\n",
       "      <td>0.082021</td>\n",
       "      <td>0.076332</td>\n",
       "      <td>0.086390</td>\n",
       "      <td>0.087138</td>\n",
       "      <td>-0.094052</td>\n",
       "      <td>0.071679</td>\n",
       "      <td>1.000000</td>\n",
       "      <td>0.074819</td>\n",
       "    </tr>\n",
       "    <tr>\n",
       "      <th>Student Loan</th>\n",
       "      <td>-0.077463</td>\n",
       "      <td>0.004370</td>\n",
       "      <td>-0.090600</td>\n",
       "      <td>-0.090007</td>\n",
       "      <td>0.159577</td>\n",
       "      <td>0.155195</td>\n",
       "      <td>0.211475</td>\n",
       "      <td>0.383900</td>\n",
       "      <td>0.186782</td>\n",
       "      <td>0.175518</td>\n",
       "      <td>...</td>\n",
       "      <td>0.016232</td>\n",
       "      <td>0.068491</td>\n",
       "      <td>0.072329</td>\n",
       "      <td>0.052089</td>\n",
       "      <td>0.068675</td>\n",
       "      <td>0.072722</td>\n",
       "      <td>-0.079775</td>\n",
       "      <td>0.073403</td>\n",
       "      <td>0.074819</td>\n",
       "      <td>1.000000</td>\n",
       "    </tr>\n",
       "  </tbody>\n",
       "</table>\n",
       "<p>31 rows × 31 columns</p>\n",
       "</div>"
      ],
      "text/plain": [
       "                               Age  Occupation  Annual_Income  \\\n",
       "Age                       1.000000   -0.003803       0.088043   \n",
       "Occupation               -0.003803    1.000000       0.005776   \n",
       "Annual_Income             0.088043    0.005776       1.000000   \n",
       "Monthly_Inhand_Salary     0.087202    0.005310       0.997902   \n",
       "Num_Bank_Accounts        -0.189048    0.011168      -0.254238   \n",
       "Num_Credit_Card          -0.146879    0.001896      -0.203215   \n",
       "Interest_Rate            -0.217313    0.004596      -0.280079   \n",
       "Num_of_Loan              -0.212209   -0.004756      -0.242413   \n",
       "Delay_from_due_date      -0.171615    0.006749      -0.228637   \n",
       "Num_of_Delayed_Payment   -0.179540   -0.007231      -0.247176   \n",
       "Changed_Credit_Limit     -0.154784   -0.001718      -0.154719   \n",
       "Num_Credit_Inquiries     -0.252762    0.001292      -0.261746   \n",
       "Credit_Mix                0.075316    0.005977       0.113379   \n",
       "Outstanding_Debt         -0.203581    0.005209      -0.257573   \n",
       "Credit_Utilization_Ratio  0.024852    0.002412       0.167858   \n",
       "Credit_History_Age        0.235230   -0.004894       0.255558   \n",
       "Payment_of_Min_Amount    -0.163078   -0.005293      -0.170335   \n",
       "Total_EMI_per_month      -0.039722   -0.001749       0.308163   \n",
       "Amount_invested_monthly   0.051094    0.008628       0.581030   \n",
       "Payment_Behaviour        -0.032652    0.001089      -0.349704   \n",
       "Monthly_Balance           0.121015    0.001911       0.699028   \n",
       "Credit_Score             -0.056775    0.006326      -0.054512   \n",
       "Auto Loan                -0.083645    0.005287      -0.095647   \n",
       "Credit-Builder Loan      -0.079249    0.003273      -0.111915   \n",
       "Debt Consolidation Loan  -0.089129   -0.001926      -0.104022   \n",
       "Home Equity Loan         -0.076683   -0.009122      -0.092800   \n",
       "Mortgage Loan            -0.085451   -0.009847      -0.087299   \n",
       "Not Specified            -0.026875   -0.012277      -0.004643   \n",
       "Payday Loan              -0.079616    0.000908      -0.092665   \n",
       "Personal Loan            -0.098738   -0.009550      -0.100945   \n",
       "Student Loan             -0.077463    0.004370      -0.090600   \n",
       "\n",
       "                          Monthly_Inhand_Salary  Num_Bank_Accounts  \\\n",
       "Age                                    0.087202          -0.189048   \n",
       "Occupation                             0.005310           0.011168   \n",
       "Annual_Income                          0.997902          -0.254238   \n",
       "Monthly_Inhand_Salary                  1.000000          -0.253313   \n",
       "Num_Bank_Accounts                     -0.253313           1.000000   \n",
       "Num_Credit_Card                       -0.202084           0.439401   \n",
       "Interest_Rate                         -0.279642           0.577907   \n",
       "Num_of_Loan                           -0.241073           0.467373   \n",
       "Delay_from_due_date                   -0.228005           0.555023   \n",
       "Num_of_Delayed_Payment                -0.246250           0.580492   \n",
       "Changed_Credit_Limit                  -0.154653           0.318716   \n",
       "Num_Credit_Inquiries                  -0.261314           0.513922   \n",
       "Credit_Mix                             0.113037          -0.239254   \n",
       "Outstanding_Debt                      -0.257356           0.502759   \n",
       "Credit_Utilization_Ratio               0.168028          -0.064957   \n",
       "Credit_History_Age                     0.254794          -0.480774   \n",
       "Payment_of_Min_Amount                 -0.169848           0.354977   \n",
       "Total_EMI_per_month                    0.297210           0.054072   \n",
       "Amount_invested_monthly                0.581957          -0.147778   \n",
       "Payment_Behaviour                     -0.351366           0.100623   \n",
       "Monthly_Balance                        0.700290          -0.291357   \n",
       "Credit_Score                          -0.052606           0.167913   \n",
       "Auto Loan                             -0.095074           0.183558   \n",
       "Credit-Builder Loan                   -0.110650           0.191665   \n",
       "Debt Consolidation Loan               -0.104121           0.170359   \n",
       "Home Equity Loan                      -0.091991           0.183340   \n",
       "Mortgage Loan                         -0.086786           0.195609   \n",
       "Not Specified                         -0.004894           0.048836   \n",
       "Payday Loan                           -0.092900           0.185367   \n",
       "Personal Loan                         -0.099429           0.188948   \n",
       "Student Loan                          -0.090007           0.159577   \n",
       "\n",
       "                          Num_Credit_Card  Interest_Rate  Num_of_Loan  \\\n",
       "Age                             -0.146879      -0.217313    -0.212209   \n",
       "Occupation                       0.001896       0.004596    -0.004756   \n",
       "Annual_Income                   -0.203215      -0.280079    -0.242413   \n",
       "Monthly_Inhand_Salary           -0.202084      -0.279642    -0.241073   \n",
       "Num_Bank_Accounts                0.439401       0.577907     0.467373   \n",
       "Num_Credit_Card                  1.000000       0.495154     0.415168   \n",
       "Interest_Rate                    0.495154       1.000000     0.554926   \n",
       "Num_of_Loan                      0.415168       0.554926     1.000000   \n",
       "Delay_from_due_date              0.476450       0.584543     0.497130   \n",
       "Num_of_Delayed_Payment           0.412519       0.552962     0.460961   \n",
       "Changed_Credit_Limit             0.243672       0.355847     0.360598   \n",
       "Num_Credit_Inquiries             0.457550       0.628188     0.562404   \n",
       "Credit_Mix                      -0.340300      -0.330098    -0.450419   \n",
       "Outstanding_Debt                 0.487669       0.626703     0.637589   \n",
       "Credit_Utilization_Ratio        -0.051888      -0.069774    -0.095358   \n",
       "Credit_History_Age              -0.415714      -0.572535    -0.606040   \n",
       "Payment_of_Min_Amount            0.254864       0.384379     0.319001   \n",
       "Total_EMI_per_month              0.050970       0.067045     0.249701   \n",
       "Amount_invested_monthly         -0.123586      -0.168912    -0.145423   \n",
       "Payment_Behaviour                0.074923       0.110223     0.096000   \n",
       "Monthly_Balance                 -0.237028      -0.324920    -0.448981   \n",
       "Credit_Score                     0.103427       0.111254     0.056378   \n",
       "Auto Loan                        0.160365       0.225154     0.389901   \n",
       "Credit-Builder Loan              0.167188       0.224769     0.406471   \n",
       "Debt Consolidation Loan          0.150883       0.208144     0.383342   \n",
       "Home Equity Loan                 0.154202       0.222497     0.401839   \n",
       "Mortgage Loan                    0.168336       0.222115     0.401418   \n",
       "Not Specified                    0.057446       0.055912     0.043002   \n",
       "Payday Loan                      0.167287       0.218284     0.402256   \n",
       "Personal Loan                    0.158535       0.211013     0.393614   \n",
       "Student Loan                     0.155195       0.211475     0.383900   \n",
       "\n",
       "                          Delay_from_due_date  Num_of_Delayed_Payment  ...  \\\n",
       "Age                                 -0.171615               -0.179540  ...   \n",
       "Occupation                           0.006749               -0.007231  ...   \n",
       "Annual_Income                       -0.228637               -0.247176  ...   \n",
       "Monthly_Inhand_Salary               -0.228005               -0.246250  ...   \n",
       "Num_Bank_Accounts                    0.555023                0.580492  ...   \n",
       "Num_Credit_Card                      0.476450                0.412519  ...   \n",
       "Interest_Rate                        0.584543                0.552962  ...   \n",
       "Num_of_Loan                          0.497130                0.460961  ...   \n",
       "Delay_from_due_date                  1.000000                0.524747  ...   \n",
       "Num_of_Delayed_Payment               0.524747                1.000000  ...   \n",
       "Changed_Credit_Limit                 0.280118                0.304755  ...   \n",
       "Num_Credit_Inquiries                 0.535919                0.482947  ...   \n",
       "Credit_Mix                          -0.421928               -0.260491  ...   \n",
       "Outstanding_Debt                     0.567526                0.491433  ...   \n",
       "Credit_Utilization_Ratio            -0.059403               -0.067356  ...   \n",
       "Credit_History_Age                  -0.486460               -0.466823  ...   \n",
       "Payment_of_Min_Amount                0.309114                0.353481  ...   \n",
       "Total_EMI_per_month                  0.073346                0.053268  ...   \n",
       "Amount_invested_monthly             -0.138524               -0.142150  ...   \n",
       "Payment_Behaviour                    0.090708                0.096406  ...   \n",
       "Monthly_Balance                     -0.277362               -0.288236  ...   \n",
       "Credit_Score                         0.086213                0.186797  ...   \n",
       "Auto Loan                            0.188588                0.188254  ...   \n",
       "Credit-Builder Loan                  0.183921                0.199519  ...   \n",
       "Debt Consolidation Loan              0.194988                0.161641  ...   \n",
       "Home Equity Loan                     0.194292                0.184436  ...   \n",
       "Mortgage Loan                        0.193736                0.186303  ...   \n",
       "Not Specified                        0.052833                0.038899  ...   \n",
       "Payday Loan                          0.195462                0.173556  ...   \n",
       "Personal Loan                        0.194843                0.174468  ...   \n",
       "Student Loan                         0.186782                0.175518  ...   \n",
       "\n",
       "                          Credit_Score  Auto Loan  Credit-Builder Loan  \\\n",
       "Age                          -0.056775  -0.083645            -0.079249   \n",
       "Occupation                    0.006326   0.005287             0.003273   \n",
       "Annual_Income                -0.054512  -0.095647            -0.111915   \n",
       "Monthly_Inhand_Salary        -0.052606  -0.095074            -0.110650   \n",
       "Num_Bank_Accounts             0.167913   0.183558             0.191665   \n",
       "Num_Credit_Card               0.103427   0.160365             0.167188   \n",
       "Interest_Rate                 0.111254   0.225154             0.224769   \n",
       "Num_of_Loan                   0.056378   0.389901             0.406471   \n",
       "Delay_from_due_date           0.086213   0.188588             0.183921   \n",
       "Num_of_Delayed_Payment        0.186797   0.188254             0.199519   \n",
       "Changed_Credit_Limit          0.186818   0.143792             0.147331   \n",
       "Num_Credit_Inquiries          0.057898   0.221698             0.222279   \n",
       "Credit_Mix                    0.234037  -0.158805            -0.171575   \n",
       "Outstanding_Debt              0.027553   0.242406             0.249922   \n",
       "Credit_Utilization_Ratio     -0.011357  -0.035808            -0.040728   \n",
       "Credit_History_Age           -0.093474  -0.239383            -0.242161   \n",
       "Payment_of_Min_Amount         0.175067   0.124024             0.131378   \n",
       "Total_EMI_per_month          -0.035336   0.096182             0.100840   \n",
       "Amount_invested_monthly      -0.037063  -0.058414            -0.071773   \n",
       "Payment_Behaviour             0.025076   0.037294             0.040742   \n",
       "Monthly_Balance              -0.048744  -0.175270            -0.192371   \n",
       "Credit_Score                  1.000000   0.024343             0.020380   \n",
       "Auto Loan                     0.024343   1.000000             0.091592   \n",
       "Credit-Builder Loan           0.020380   0.091592             1.000000   \n",
       "Debt Consolidation Loan       0.029770   0.077610             0.070365   \n",
       "Home Equity Loan              0.023808   0.067058             0.103851   \n",
       "Mortgage Loan                 0.018752   0.070680             0.074386   \n",
       "Not Specified                -0.010607  -0.094024            -0.090408   \n",
       "Payday Loan                   0.022282   0.086986             0.074312   \n",
       "Personal Loan                 0.034419   0.080827             0.082021   \n",
       "Student Loan                  0.016232   0.068491             0.072329   \n",
       "\n",
       "                          Debt Consolidation Loan  Home Equity Loan  \\\n",
       "Age                                     -0.089129         -0.076683   \n",
       "Occupation                              -0.001926         -0.009122   \n",
       "Annual_Income                           -0.104022         -0.092800   \n",
       "Monthly_Inhand_Salary                   -0.104121         -0.091991   \n",
       "Num_Bank_Accounts                        0.170359          0.183340   \n",
       "Num_Credit_Card                          0.150883          0.154202   \n",
       "Interest_Rate                            0.208144          0.222497   \n",
       "Num_of_Loan                              0.383342          0.401839   \n",
       "Delay_from_due_date                      0.194988          0.194292   \n",
       "Num_of_Delayed_Payment                   0.161641          0.184436   \n",
       "Changed_Credit_Limit                     0.135125          0.146471   \n",
       "Num_Credit_Inquiries                     0.217877          0.221504   \n",
       "Credit_Mix                              -0.151855         -0.166480   \n",
       "Outstanding_Debt                         0.233220          0.242864   \n",
       "Credit_Utilization_Ratio                -0.043454         -0.041053   \n",
       "Credit_History_Age                      -0.237689         -0.225359   \n",
       "Payment_of_Min_Amount                    0.122587          0.129194   \n",
       "Total_EMI_per_month                      0.094258          0.110596   \n",
       "Amount_invested_monthly                 -0.062282         -0.057349   \n",
       "Payment_Behaviour                        0.043253          0.031978   \n",
       "Monthly_Balance                         -0.180797         -0.183078   \n",
       "Credit_Score                             0.029770          0.023808   \n",
       "Auto Loan                                0.077610          0.067058   \n",
       "Credit-Builder Loan                      0.070365          0.103851   \n",
       "Debt Consolidation Loan                  1.000000          0.081172   \n",
       "Home Equity Loan                         0.081172          1.000000   \n",
       "Mortgage Loan                            0.070487          0.081631   \n",
       "Not Specified                           -0.079436         -0.087353   \n",
       "Payday Loan                              0.079692          0.082151   \n",
       "Personal Loan                            0.076332          0.086390   \n",
       "Student Loan                             0.052089          0.068675   \n",
       "\n",
       "                          Mortgage Loan  Not Specified  Payday Loan  \\\n",
       "Age                           -0.085451      -0.026875    -0.079616   \n",
       "Occupation                    -0.009847      -0.012277     0.000908   \n",
       "Annual_Income                 -0.087299      -0.004643    -0.092665   \n",
       "Monthly_Inhand_Salary         -0.086786      -0.004894    -0.092900   \n",
       "Num_Bank_Accounts              0.195609       0.048836     0.185367   \n",
       "Num_Credit_Card                0.168336       0.057446     0.167287   \n",
       "Interest_Rate                  0.222115       0.055912     0.218284   \n",
       "Num_of_Loan                    0.401418       0.043002     0.402256   \n",
       "Delay_from_due_date            0.193736       0.052833     0.195462   \n",
       "Num_of_Delayed_Payment         0.186303       0.038899     0.173556   \n",
       "Changed_Credit_Limit           0.136216       0.032989     0.132855   \n",
       "Num_Credit_Inquiries           0.221907       0.051234     0.227272   \n",
       "Credit_Mix                    -0.170424      -0.079402    -0.167482   \n",
       "Outstanding_Debt               0.249910       0.080103     0.243060   \n",
       "Credit_Utilization_Ratio      -0.040958       0.005596    -0.037176   \n",
       "Credit_History_Age            -0.237966      -0.064381    -0.240266   \n",
       "Payment_of_Min_Amount          0.125177       0.028807     0.132784   \n",
       "Total_EMI_per_month            0.107545       0.001569     0.107802   \n",
       "Amount_invested_monthly       -0.049648      -0.002602    -0.054707   \n",
       "Payment_Behaviour              0.038543      -0.000622     0.041461   \n",
       "Monthly_Balance               -0.178843       0.002880    -0.180914   \n",
       "Credit_Score                   0.018752      -0.010607     0.022282   \n",
       "Auto Loan                      0.070680      -0.094024     0.086986   \n",
       "Credit-Builder Loan            0.074386      -0.090408     0.074312   \n",
       "Debt Consolidation Loan        0.070487      -0.079436     0.079692   \n",
       "Home Equity Loan               0.081631      -0.087353     0.082151   \n",
       "Mortgage Loan                  1.000000      -0.061003     0.068396   \n",
       "Not Specified                 -0.061003       1.000000    -0.087468   \n",
       "Payday Loan                    0.068396      -0.087468     1.000000   \n",
       "Personal Loan                  0.087138      -0.094052     0.071679   \n",
       "Student Loan                   0.072722      -0.079775     0.073403   \n",
       "\n",
       "                          Personal Loan  Student Loan  \n",
       "Age                           -0.098738     -0.077463  \n",
       "Occupation                    -0.009550      0.004370  \n",
       "Annual_Income                 -0.100945     -0.090600  \n",
       "Monthly_Inhand_Salary         -0.099429     -0.090007  \n",
       "Num_Bank_Accounts              0.188948      0.159577  \n",
       "Num_Credit_Card                0.158535      0.155195  \n",
       "Interest_Rate                  0.211013      0.211475  \n",
       "Num_of_Loan                    0.393614      0.383900  \n",
       "Delay_from_due_date            0.194843      0.186782  \n",
       "Num_of_Delayed_Payment         0.174468      0.175518  \n",
       "Changed_Credit_Limit           0.139411      0.143948  \n",
       "Num_Credit_Inquiries           0.214573      0.221626  \n",
       "Credit_Mix                    -0.162252     -0.158996  \n",
       "Outstanding_Debt               0.244177      0.240156  \n",
       "Credit_Utilization_Ratio      -0.041831     -0.037453  \n",
       "Credit_History_Age            -0.233509     -0.237079  \n",
       "Payment_of_Min_Amount          0.127571      0.115753  \n",
       "Total_EMI_per_month            0.088444      0.101013  \n",
       "Amount_invested_monthly       -0.058694     -0.055085  \n",
       "Payment_Behaviour              0.043524      0.027721  \n",
       "Monthly_Balance               -0.181094     -0.172767  \n",
       "Credit_Score                   0.034419      0.016232  \n",
       "Auto Loan                      0.080827      0.068491  \n",
       "Credit-Builder Loan            0.082021      0.072329  \n",
       "Debt Consolidation Loan        0.076332      0.052089  \n",
       "Home Equity Loan               0.086390      0.068675  \n",
       "Mortgage Loan                  0.087138      0.072722  \n",
       "Not Specified                 -0.094052     -0.079775  \n",
       "Payday Loan                    0.071679      0.073403  \n",
       "Personal Loan                  1.000000      0.074819  \n",
       "Student Loan                   0.074819      1.000000  \n",
       "\n",
       "[31 rows x 31 columns]"
      ]
     },
     "execution_count": 116,
     "metadata": {},
     "output_type": "execute_result"
    }
   ],
   "source": [
    "Bank.corr()"
   ]
  },
  {
   "cell_type": "code",
   "execution_count": 119,
   "id": "93bf7792",
   "metadata": {},
   "outputs": [
    {
     "data": {
      "text/plain": [
       "<matplotlib.axes._subplots.AxesSubplot at 0x217ca71e748>"
      ]
     },
     "execution_count": 119,
     "metadata": {},
     "output_type": "execute_result"
    },
    {
     "data": {
      "image/png": "[encoded data removed]",
      "text/plain": [
       "<Figure size 432x288 with 2 Axes>"
      ]
     },
     "metadata": {
      "needs_background": "light"
     },
     "output_type": "display_data"
    }
   ],
   "source": [
    "sns.heatmap(Bank.corr())"
   ]
  },
  {
   "cell_type": "code",
   "execution_count": 123,
   "id": "2dbf599a",
   "metadata": {},
   "outputs": [
    {
     "data": {
      "text/plain": [
       "<matplotlib.axes._subplots.AxesSubplot at 0x217ca68c6d8>"
      ]
     },
     "execution_count": 123,
     "metadata": {},
     "output_type": "execute_result"
    },
    {
     "data": {
      "image/png": "[encoded data removed]",
      "text/plain": [
       "<Figure size 432x288 with 2 Axes>"
      ]
     },
     "metadata": {
      "needs_background": "light"
     },
     "output_type": "display_data"
    }
   ],
   "source": [
    "mask = np.triu(np.ones_like(Bank.corr()))\n",
    "sns.heatmap(Bank.corr(),mask=mask)"
   ]
  },
  {
   "cell_type": "code",
   "execution_count": 124,
   "id": "e0ec6db8",
   "metadata": {},
   "outputs": [
    {
     "data": {
      "text/plain": [
       "<matplotlib.image.AxesImage at 0x217cb2dee48>"
      ]
     },
     "execution_count": 124,
     "metadata": {},
     "output_type": "execute_result"
    },
    {
     "data": {
      "image/png": "[encoded data removed]",
      "text/plain": [
       "<Figure size 288x288 with 1 Axes>"
      ]
     },
     "metadata": {
      "needs_background": "light"
     },
     "output_type": "display_data"
    }
   ],
   "source": [
    "plt.matshow(Bank.corr())"
   ]
  },
  {
   "cell_type": "code",
   "execution_count": 139,
   "id": "93ae7c4f",
   "metadata": {},
   "outputs": [
    {
     "data": {
      "image/png": "[encoded data removed]",
      "text/plain": [
       "<Figure size 432x288 with 1 Axes>"
      ]
     },
     "metadata": {
      "needs_background": "light"
     },
     "output_type": "display_data"
    }
   ],
   "source": [
    "plt.scatter(Bank['Age'], Bank['Monthly_Balance'])\n",
    "plt.show()"
   ]
  },
  {
   "cell_type": "code",
   "execution_count": 138,
   "id": "6cb23370",
   "metadata": {},
   "outputs": [
    {
     "data": {
      "image/png": "[encoded data removed]",
      "text/plain": [
       "<Figure size 432x288 with 1 Axes>"
      ]
     },
     "metadata": {
      "needs_background": "light"
     },
     "output_type": "display_data"
    }
   ],
   "source": [
    "plt.scatter(Bank['Age'], Bank['Annual_Income'])\n",
    "plt.show()"
   ]
  },
  {
   "cell_type": "code",
   "execution_count": 137,
   "id": "15f16ae3",
   "metadata": {},
   "outputs": [
    {
     "data": {
      "image/png": "[encoded data removed]",
      "text/plain": [
       "<Figure size 432x288 with 1 Axes>"
      ]
     },
     "metadata": {
      "needs_background": "light"
     },
     "output_type": "display_data"
    }
   ],
   "source": [
    "plt.scatter(Bank['Age'], Bank['Monthly_Inhand_Salary'])\n",
    "plt.show()"
   ]
  },
  {
   "cell_type": "code",
   "execution_count": 136,
   "id": "cbb07647",
   "metadata": {},
   "outputs": [
    {
     "data": {
      "image/png": "[encoded data removed]",
      "text/plain": [
       "<Figure size 432x288 with 1 Axes>"
      ]
     },
     "metadata": {
      "needs_background": "light"
     },
     "output_type": "display_data"
    }
   ],
   "source": [
    "plt.scatter(Bank['Age'], Bank['Outstanding_Debt'])\n",
    "plt.show()"
   ]
  },
  {
   "cell_type": "code",
   "execution_count": 131,
   "id": "7908e35a",
   "metadata": {},
   "outputs": [
    {
     "data": {
      "image/png": "[encoded data removed]",
      "text/plain": [
       "<Figure size 432x288 with 1 Axes>"
      ]
     },
     "metadata": {
      "needs_background": "light"
     },
     "output_type": "display_data"
    }
   ],
   "source": [
    "plt.scatter(Bank['Age'], Bank['Credit_Utilization_Ratio'])\n",
    "plt.show()"
   ]
  },
  {
   "cell_type": "code",
   "execution_count": 140,
   "id": "bcafce6b",
   "metadata": {},
   "outputs": [],
   "source": [
    "from sklearn.model_selection import train_test_split\n",
    "from sklearn.linear_model import LogisticRegression\n",
    "from sklearn import metrics"
   ]
  },
  {
   "cell_type": "code",
   "execution_count": 141,
   "id": "43102411",
   "metadata": {},
   "outputs": [
    {
     "data": {
      "text/plain": [
       "Index(['Age', 'Occupation', 'Annual_Income', 'Monthly_Inhand_Salary',\n",
       "       'Num_Bank_Accounts', 'Num_Credit_Card', 'Interest_Rate', 'Num_of_Loan',\n",
       "       'Delay_from_due_date', 'Num_of_Delayed_Payment', 'Changed_Credit_Limit',\n",
       "       'Num_Credit_Inquiries', 'Credit_Mix', 'Outstanding_Debt',\n",
       "       'Credit_Utilization_Ratio', 'Credit_History_Age',\n",
       "       'Payment_of_Min_Amount', 'Total_EMI_per_month',\n",
       "       'Amount_invested_monthly', 'Payment_Behaviour', 'Monthly_Balance',\n",
       "       'Credit_Score', 'Auto Loan', 'Credit-Builder Loan',\n",
       "       'Debt Consolidation Loan', 'Home Equity Loan', 'Mortgage Loan',\n",
       "       'Not Specified', 'Payday Loan', 'Personal Loan', 'Student Loan'],\n",
       "      dtype='object')"
      ]
     },
     "execution_count": 141,
     "metadata": {},
     "output_type": "execute_result"
    }
   ],
   "source": [
    "Bank.columns"
   ]
  },
  {
   "cell_type": "code",
   "execution_count": 142,
   "id": "5c478744",
   "metadata": {},
   "outputs": [],
   "source": [
    "y=Bank['Credit_Score']"
   ]
  },
  {
   "cell_type": "code",
   "execution_count": 144,
   "id": "69ddd71a",
   "metadata": {},
   "outputs": [],
   "source": [
    "X=Bank.drop(['Credit_Score'],axis=1)"
   ]
  },
  {
   "cell_type": "code",
   "execution_count": 145,
   "id": "137423f7",
   "metadata": {},
   "outputs": [
    {
     "data": {
      "text/html": [
       "<div>\n",
       "<style scoped>\n",
       "    .dataframe tbody tr th:only-of-type {\n",
       "        vertical-align: middle;\n",
       "    }\n",
       "\n",
       "    .dataframe tbody tr th {\n",
       "        vertical-align: top;\n",
       "    }\n",
       "\n",
       "    .dataframe thead th {\n",
       "        text-align: right;\n",
       "    }\n",
       "</style>\n",
       "<table border=\"1\" class=\"dataframe\">\n",
       "  <thead>\n",
       "    <tr style=\"text-align: right;\">\n",
       "      <th></th>\n",
       "      <th>Age</th>\n",
       "      <th>Occupation</th>\n",
       "      <th>Annual_Income</th>\n",
       "      <th>Monthly_Inhand_Salary</th>\n",
       "      <th>Num_Bank_Accounts</th>\n",
       "      <th>Num_Credit_Card</th>\n",
       "      <th>Interest_Rate</th>\n",
       "      <th>Num_of_Loan</th>\n",
       "      <th>Delay_from_due_date</th>\n",
       "      <th>Num_of_Delayed_Payment</th>\n",
       "      <th>...</th>\n",
       "      <th>Monthly_Balance</th>\n",
       "      <th>Auto Loan</th>\n",
       "      <th>Credit-Builder Loan</th>\n",
       "      <th>Debt Consolidation Loan</th>\n",
       "      <th>Home Equity Loan</th>\n",
       "      <th>Mortgage Loan</th>\n",
       "      <th>Not Specified</th>\n",
       "      <th>Payday Loan</th>\n",
       "      <th>Personal Loan</th>\n",
       "      <th>Student Loan</th>\n",
       "    </tr>\n",
       "  </thead>\n",
       "  <tbody>\n",
       "    <tr>\n",
       "      <th>0</th>\n",
       "      <td>23</td>\n",
       "      <td>12</td>\n",
       "      <td>19114.12</td>\n",
       "      <td>1824.843333</td>\n",
       "      <td>3</td>\n",
       "      <td>4</td>\n",
       "      <td>3</td>\n",
       "      <td>4</td>\n",
       "      <td>3</td>\n",
       "      <td>7.0</td>\n",
       "      <td>...</td>\n",
       "      <td>312.494089</td>\n",
       "      <td>1</td>\n",
       "      <td>1</td>\n",
       "      <td>0</td>\n",
       "      <td>1</td>\n",
       "      <td>0</td>\n",
       "      <td>0</td>\n",
       "      <td>0</td>\n",
       "      <td>1</td>\n",
       "      <td>0</td>\n",
       "    </tr>\n",
       "    <tr>\n",
       "      <th>1</th>\n",
       "      <td>23</td>\n",
       "      <td>12</td>\n",
       "      <td>19114.12</td>\n",
       "      <td>1824.843333</td>\n",
       "      <td>3</td>\n",
       "      <td>4</td>\n",
       "      <td>3</td>\n",
       "      <td>4</td>\n",
       "      <td>-1</td>\n",
       "      <td>4.0</td>\n",
       "      <td>...</td>\n",
       "      <td>284.629162</td>\n",
       "      <td>1</td>\n",
       "      <td>1</td>\n",
       "      <td>0</td>\n",
       "      <td>1</td>\n",
       "      <td>0</td>\n",
       "      <td>0</td>\n",
       "      <td>0</td>\n",
       "      <td>1</td>\n",
       "      <td>0</td>\n",
       "    </tr>\n",
       "    <tr>\n",
       "      <th>2</th>\n",
       "      <td>23</td>\n",
       "      <td>12</td>\n",
       "      <td>19114.12</td>\n",
       "      <td>1824.843333</td>\n",
       "      <td>3</td>\n",
       "      <td>4</td>\n",
       "      <td>3</td>\n",
       "      <td>4</td>\n",
       "      <td>3</td>\n",
       "      <td>7.0</td>\n",
       "      <td>...</td>\n",
       "      <td>331.209863</td>\n",
       "      <td>1</td>\n",
       "      <td>1</td>\n",
       "      <td>0</td>\n",
       "      <td>1</td>\n",
       "      <td>0</td>\n",
       "      <td>0</td>\n",
       "      <td>0</td>\n",
       "      <td>1</td>\n",
       "      <td>0</td>\n",
       "    </tr>\n",
       "    <tr>\n",
       "      <th>3</th>\n",
       "      <td>23</td>\n",
       "      <td>12</td>\n",
       "      <td>19114.12</td>\n",
       "      <td>1824.843333</td>\n",
       "      <td>3</td>\n",
       "      <td>4</td>\n",
       "      <td>3</td>\n",
       "      <td>4</td>\n",
       "      <td>5</td>\n",
       "      <td>4.0</td>\n",
       "      <td>...</td>\n",
       "      <td>223.451310</td>\n",
       "      <td>1</td>\n",
       "      <td>1</td>\n",
       "      <td>0</td>\n",
       "      <td>1</td>\n",
       "      <td>0</td>\n",
       "      <td>0</td>\n",
       "      <td>0</td>\n",
       "      <td>1</td>\n",
       "      <td>0</td>\n",
       "    </tr>\n",
       "    <tr>\n",
       "      <th>4</th>\n",
       "      <td>23</td>\n",
       "      <td>12</td>\n",
       "      <td>19114.12</td>\n",
       "      <td>1824.843333</td>\n",
       "      <td>3</td>\n",
       "      <td>4</td>\n",
       "      <td>3</td>\n",
       "      <td>4</td>\n",
       "      <td>6</td>\n",
       "      <td>4.0</td>\n",
       "      <td>...</td>\n",
       "      <td>341.489231</td>\n",
       "      <td>1</td>\n",
       "      <td>1</td>\n",
       "      <td>0</td>\n",
       "      <td>1</td>\n",
       "      <td>0</td>\n",
       "      <td>0</td>\n",
       "      <td>0</td>\n",
       "      <td>1</td>\n",
       "      <td>0</td>\n",
       "    </tr>\n",
       "  </tbody>\n",
       "</table>\n",
       "<p>5 rows × 30 columns</p>\n",
       "</div>"
      ],
      "text/plain": [
       "   Age  Occupation  Annual_Income  Monthly_Inhand_Salary  Num_Bank_Accounts  \\\n",
       "0   23          12       19114.12            1824.843333                  3   \n",
       "1   23          12       19114.12            1824.843333                  3   \n",
       "2   23          12       19114.12            1824.843333                  3   \n",
       "3   23          12       19114.12            1824.843333                  3   \n",
       "4   23          12       19114.12            1824.843333                  3   \n",
       "\n",
       "   Num_Credit_Card  Interest_Rate  Num_of_Loan  Delay_from_due_date  \\\n",
       "0                4              3            4                    3   \n",
       "1                4              3            4                   -1   \n",
       "2                4              3            4                    3   \n",
       "3                4              3            4                    5   \n",
       "4                4              3            4                    6   \n",
       "\n",
       "   Num_of_Delayed_Payment  ...  Monthly_Balance  Auto Loan  \\\n",
       "0                     7.0  ...       312.494089          1   \n",
       "1                     4.0  ...       284.629162          1   \n",
       "2                     7.0  ...       331.209863          1   \n",
       "3                     4.0  ...       223.451310          1   \n",
       "4                     4.0  ...       341.489231          1   \n",
       "\n",
       "   Credit-Builder Loan  Debt Consolidation Loan  Home Equity Loan  \\\n",
       "0                    1                        0                 1   \n",
       "1                    1                        0                 1   \n",
       "2                    1                        0                 1   \n",
       "3                    1                        0                 1   \n",
       "4                    1                        0                 1   \n",
       "\n",
       "   Mortgage Loan  Not Specified  Payday Loan  Personal Loan  Student Loan  \n",
       "0              0              0            0              1             0  \n",
       "1              0              0            0              1             0  \n",
       "2              0              0            0              1             0  \n",
       "3              0              0            0              1             0  \n",
       "4              0              0            0              1             0  \n",
       "\n",
       "[5 rows x 30 columns]"
      ]
     },
     "execution_count": 145,
     "metadata": {},
     "output_type": "execute_result"
    }
   ],
   "source": [
    "X.head()"
   ]
  },
  {
   "cell_type": "code",
   "execution_count": 147,
   "id": "46b8b28a",
   "metadata": {},
   "outputs": [],
   "source": [
    "#Splitting data into train and test sets\n",
    "X_train, X_test, y_train, y_test = train_test_split(X, y, \n",
    "                                                    test_size=0.3,\n",
    "                                                    random_state=43)"
   ]
  },
  {
   "cell_type": "code",
   "execution_count": 151,
   "id": "7e95622d",
   "metadata": {},
   "outputs": [
    {
     "data": {
      "text/plain": [
       "((61505, 30), (26360, 30), (61505,), (26360,))"
      ]
     },
     "execution_count": 151,
     "metadata": {},
     "output_type": "execute_result"
    }
   ],
   "source": [
    "X_train.shape, X_test.shape, y_train.shape, y_test.shape"
   ]
  },
  {
   "cell_type": "code",
   "execution_count": 152,
   "id": "0646391b",
   "metadata": {},
   "outputs": [],
   "source": [
    "#creating logisticRegression model\n",
    "model = LogisticRegression()\n",
    "model = model.fit(X_train, y_train)"
   ]
  },
  {
   "cell_type": "code",
   "execution_count": 153,
   "id": "43406f74",
   "metadata": {},
   "outputs": [],
   "source": [
    "# predict class labels for the train set. The predict fuction converts probability values > .5 to 1 else 0\n",
    "y_pred = model.predict(X_test)"
   ]
  },
  {
   "cell_type": "code",
   "execution_count": 154,
   "id": "7d822235",
   "metadata": {},
   "outputs": [
    {
     "data": {
      "text/plain": [
       "array([2, 1, 2, ..., 2, 2, 2], dtype=int64)"
      ]
     },
     "execution_count": 154,
     "metadata": {},
     "output_type": "execute_result"
    }
   ],
   "source": [
    "y_pred"
   ]
  },
  {
   "cell_type": "code",
   "execution_count": 159,
   "id": "8bb0c16a",
   "metadata": {},
   "outputs": [],
   "source": [
    "#confusion matrix\n",
    "from sklearn.metrics import confusion_matrix"
   ]
  },
  {
   "cell_type": "code",
   "execution_count": 160,
   "id": "626baae0",
   "metadata": {},
   "outputs": [],
   "source": [
    "confusion = confusion_matrix(y_pred,y_test)"
   ]
  },
  {
   "cell_type": "code",
   "execution_count": 161,
   "id": "e6bd1361",
   "metadata": {},
   "outputs": [
    {
     "data": {
      "text/plain": [
       "array([[ 1798,   306,  1164],\n",
       "       [   84,  4052,  2046],\n",
       "       [ 2617,  3312, 10981]], dtype=int64)"
      ]
     },
     "execution_count": 161,
     "metadata": {},
     "output_type": "execute_result"
    }
   ],
   "source": [
    "confusion"
   ]
  },
  {
   "cell_type": "code",
   "execution_count": 162,
   "id": "273fb1cb",
   "metadata": {},
   "outputs": [],
   "source": [
    "from sklearn.metrics import classification_report"
   ]
  },
  {
   "cell_type": "code",
   "execution_count": 163,
   "id": "2726dad7",
   "metadata": {},
   "outputs": [
    {
     "name": "stdout",
     "output_type": "stream",
     "text": [
      "             precision    recall  f1-score   support\n",
      "\n",
      "          0       0.55      0.40      0.46      4499\n",
      "          1       0.66      0.53      0.59      7670\n",
      "          2       0.65      0.77      0.71     14191\n",
      "\n",
      "avg / total       0.63      0.64      0.63     26360\n",
      "\n"
     ]
    }
   ],
   "source": [
    "print(classification_report(y_test,y_pred))"
   ]
  },
  {
   "cell_type": "code",
   "execution_count": 164,
   "id": "5afeed42",
   "metadata": {},
   "outputs": [],
   "source": [
    "#Not so good model, however we are trying build end-end model based on this model.\n",
    "#letstry Decission tree"
   ]
  },
  {
   "cell_type": "code",
   "execution_count": 167,
   "id": "b9ea8607",
   "metadata": {},
   "outputs": [],
   "source": [
    "from sklearn.tree import DecisionTreeClassifier\n",
    "from sklearn import tree\n",
    "DT = tree.DecisionTreeClassifier()"
   ]
  },
  {
   "cell_type": "code",
   "execution_count": 168,
   "id": "6b21dd0f",
   "metadata": {},
   "outputs": [],
   "source": [
    "DTS=DT.fit(X_train, y_train)"
   ]
  },
  {
   "cell_type": "code",
   "execution_count": 170,
   "id": "55a6744e",
   "metadata": {},
   "outputs": [],
   "source": [
    "DTy_pred = DTS.predict(X_test)"
   ]
  },
  {
   "cell_type": "code",
   "execution_count": 171,
   "id": "ceb5ebd7",
   "metadata": {},
   "outputs": [],
   "source": [
    "DT_confusion = confusion_matrix(DTy_pred,y_test)"
   ]
  },
  {
   "cell_type": "code",
   "execution_count": 173,
   "id": "e6c8ec19",
   "metadata": {},
   "outputs": [
    {
     "data": {
      "text/plain": [
       "array([[ 3009,   122,  1433],\n",
       "       [  118,  5503,  2079],\n",
       "       [ 1372,  2045, 10679]], dtype=int64)"
      ]
     },
     "execution_count": 173,
     "metadata": {},
     "output_type": "execute_result"
    }
   ],
   "source": [
    "DT_confusion"
   ]
  },
  {
   "cell_type": "code",
   "execution_count": 174,
   "id": "02d5cd4b",
   "metadata": {},
   "outputs": [
    {
     "name": "stdout",
     "output_type": "stream",
     "text": [
      "             precision    recall  f1-score   support\n",
      "\n",
      "          0       0.66      0.67      0.66      4499\n",
      "          1       0.71      0.72      0.72      7670\n",
      "          2       0.76      0.75      0.76     14191\n",
      "\n",
      "avg / total       0.73      0.73      0.73     26360\n",
      "\n"
     ]
    }
   ],
   "source": [
    "print(classification_report(y_test,DTy_pred))"
   ]
  },
  {
   "cell_type": "code",
   "execution_count": 175,
   "id": "ef881821",
   "metadata": {},
   "outputs": [],
   "source": [
    "#Decission tree is performing best compare to logistic regress.\n",
    "#Now we will save Decission tree and try to create end-end model\n",
    "#Save pickle file"
   ]
  },
  {
   "cell_type": "code",
   "execution_count": 176,
   "id": "8e86b9e6",
   "metadata": {},
   "outputs": [],
   "source": [
    "import pickle"
   ]
  },
  {
   "cell_type": "code",
   "execution_count": 178,
   "id": "5629d4ff",
   "metadata": {},
   "outputs": [],
   "source": [
    "pickle.dump(DTS,open('DTmodel.pkl','wb')) #file will be saved in homepage of Jupyter notebook"
   ]
  },
  {
   "cell_type": "code",
   "execution_count": 179,
   "id": "b72a37b0",
   "metadata": {},
   "outputs": [],
   "source": [
    "pickled_model=pickle.load(open('DTmodel.pkl','rb')) # we can load any pickle file also"
   ]
  },
  {
   "cell_type": "code",
   "execution_count": 187,
   "id": "76331c48",
   "metadata": {},
   "outputs": [],
   "source": [
    "testing=X_test[0:1] #testing pickle file"
   ]
  },
  {
   "cell_type": "code",
   "execution_count": 189,
   "id": "534e2b0c",
   "metadata": {},
   "outputs": [
    {
     "data": {
      "text/plain": [
       "array([2], dtype=int64)"
      ]
     },
     "execution_count": 189,
     "metadata": {},
     "output_type": "execute_result"
    }
   ],
   "source": [
    "pickled_model.predict(testing)"
   ]
  }
 ],
 "metadata": {
  "kernelspec": {
   "display_name": "Python 3",
   "language": "python",
   "name": "python3"
  },
  "language_info": {
   "codemirror_mode": {
    "name": "ipython",
    "version": 3
   },
   "file_extension": ".py",
   "mimetype": "text/x-python",
   "name": "python",
   "nbconvert_exporter": "python",
   "pygments_lexer": "ipython3",
   "version": "3.7.3"
  }
 },
 "nbformat": 4,
 "nbformat_minor": 5
}
